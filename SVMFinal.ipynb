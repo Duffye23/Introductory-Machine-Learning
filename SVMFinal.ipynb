{
 "cells": [
  {
   "cell_type": "code",
   "execution_count": 1,
   "metadata": {},
   "outputs": [],
   "source": [
    "import matplotlib.pyplot as plt\n",
    "import pandas as pd\n",
    "import numpy as np\n",
    "import seaborn as sns\n",
    "import matplotlib.image as mpl\n",
    "import scipy\n",
    "import sklearn"
   ]
  },
  {
   "cell_type": "code",
   "execution_count": 4,
   "metadata": {},
   "outputs": [
    {
     "data": {
      "text/html": [
       "<div>\n",
       "<style scoped>\n",
       "    .dataframe tbody tr th:only-of-type {\n",
       "        vertical-align: middle;\n",
       "    }\n",
       "\n",
       "    .dataframe tbody tr th {\n",
       "        vertical-align: top;\n",
       "    }\n",
       "\n",
       "    .dataframe thead th {\n",
       "        text-align: right;\n",
       "    }\n",
       "</style>\n",
       "<table border=\"1\" class=\"dataframe\">\n",
       "  <thead>\n",
       "    <tr style=\"text-align: right;\">\n",
       "      <th></th>\n",
       "      <th>diagnosis</th>\n",
       "      <th>radius_mean</th>\n",
       "      <th>texture_mean</th>\n",
       "      <th>perimeter_mean</th>\n",
       "      <th>area_mean</th>\n",
       "      <th>smoothness_mean</th>\n",
       "      <th>compactness_mean</th>\n",
       "      <th>concavity_mean</th>\n",
       "      <th>concave points_mean</th>\n",
       "      <th>symmetry_mean</th>\n",
       "      <th>...</th>\n",
       "      <th>radius_worst</th>\n",
       "      <th>texture_worst</th>\n",
       "      <th>perimeter_worst</th>\n",
       "      <th>area_worst</th>\n",
       "      <th>smoothness_worst</th>\n",
       "      <th>compactness_worst</th>\n",
       "      <th>concavity_worst</th>\n",
       "      <th>concave points_worst</th>\n",
       "      <th>symmetry_worst</th>\n",
       "      <th>fractal_dimension_worst</th>\n",
       "    </tr>\n",
       "  </thead>\n",
       "  <tbody>\n",
       "    <tr>\n",
       "      <th>0</th>\n",
       "      <td>M</td>\n",
       "      <td>17.99</td>\n",
       "      <td>10.38</td>\n",
       "      <td>122.80</td>\n",
       "      <td>1001.0</td>\n",
       "      <td>0.11840</td>\n",
       "      <td>0.27760</td>\n",
       "      <td>0.3001</td>\n",
       "      <td>0.14710</td>\n",
       "      <td>0.2419</td>\n",
       "      <td>...</td>\n",
       "      <td>25.38</td>\n",
       "      <td>17.33</td>\n",
       "      <td>184.60</td>\n",
       "      <td>2019.0</td>\n",
       "      <td>0.1622</td>\n",
       "      <td>0.6656</td>\n",
       "      <td>0.7119</td>\n",
       "      <td>0.2654</td>\n",
       "      <td>0.4601</td>\n",
       "      <td>0.11890</td>\n",
       "    </tr>\n",
       "    <tr>\n",
       "      <th>1</th>\n",
       "      <td>M</td>\n",
       "      <td>20.57</td>\n",
       "      <td>17.77</td>\n",
       "      <td>132.90</td>\n",
       "      <td>1326.0</td>\n",
       "      <td>0.08474</td>\n",
       "      <td>0.07864</td>\n",
       "      <td>0.0869</td>\n",
       "      <td>0.07017</td>\n",
       "      <td>0.1812</td>\n",
       "      <td>...</td>\n",
       "      <td>24.99</td>\n",
       "      <td>23.41</td>\n",
       "      <td>158.80</td>\n",
       "      <td>1956.0</td>\n",
       "      <td>0.1238</td>\n",
       "      <td>0.1866</td>\n",
       "      <td>0.2416</td>\n",
       "      <td>0.1860</td>\n",
       "      <td>0.2750</td>\n",
       "      <td>0.08902</td>\n",
       "    </tr>\n",
       "    <tr>\n",
       "      <th>2</th>\n",
       "      <td>M</td>\n",
       "      <td>19.69</td>\n",
       "      <td>21.25</td>\n",
       "      <td>130.00</td>\n",
       "      <td>1203.0</td>\n",
       "      <td>0.10960</td>\n",
       "      <td>0.15990</td>\n",
       "      <td>0.1974</td>\n",
       "      <td>0.12790</td>\n",
       "      <td>0.2069</td>\n",
       "      <td>...</td>\n",
       "      <td>23.57</td>\n",
       "      <td>25.53</td>\n",
       "      <td>152.50</td>\n",
       "      <td>1709.0</td>\n",
       "      <td>0.1444</td>\n",
       "      <td>0.4245</td>\n",
       "      <td>0.4504</td>\n",
       "      <td>0.2430</td>\n",
       "      <td>0.3613</td>\n",
       "      <td>0.08758</td>\n",
       "    </tr>\n",
       "    <tr>\n",
       "      <th>3</th>\n",
       "      <td>M</td>\n",
       "      <td>11.42</td>\n",
       "      <td>20.38</td>\n",
       "      <td>77.58</td>\n",
       "      <td>386.1</td>\n",
       "      <td>0.14250</td>\n",
       "      <td>0.28390</td>\n",
       "      <td>0.2414</td>\n",
       "      <td>0.10520</td>\n",
       "      <td>0.2597</td>\n",
       "      <td>...</td>\n",
       "      <td>14.91</td>\n",
       "      <td>26.50</td>\n",
       "      <td>98.87</td>\n",
       "      <td>567.7</td>\n",
       "      <td>0.2098</td>\n",
       "      <td>0.8663</td>\n",
       "      <td>0.6869</td>\n",
       "      <td>0.2575</td>\n",
       "      <td>0.6638</td>\n",
       "      <td>0.17300</td>\n",
       "    </tr>\n",
       "    <tr>\n",
       "      <th>4</th>\n",
       "      <td>M</td>\n",
       "      <td>20.29</td>\n",
       "      <td>14.34</td>\n",
       "      <td>135.10</td>\n",
       "      <td>1297.0</td>\n",
       "      <td>0.10030</td>\n",
       "      <td>0.13280</td>\n",
       "      <td>0.1980</td>\n",
       "      <td>0.10430</td>\n",
       "      <td>0.1809</td>\n",
       "      <td>...</td>\n",
       "      <td>22.54</td>\n",
       "      <td>16.67</td>\n",
       "      <td>152.20</td>\n",
       "      <td>1575.0</td>\n",
       "      <td>0.1374</td>\n",
       "      <td>0.2050</td>\n",
       "      <td>0.4000</td>\n",
       "      <td>0.1625</td>\n",
       "      <td>0.2364</td>\n",
       "      <td>0.07678</td>\n",
       "    </tr>\n",
       "  </tbody>\n",
       "</table>\n",
       "<p>5 rows × 31 columns</p>\n",
       "</div>"
      ],
      "text/plain": [
       "  diagnosis  radius_mean  texture_mean  perimeter_mean  area_mean  \\\n",
       "0         M        17.99         10.38          122.80     1001.0   \n",
       "1         M        20.57         17.77          132.90     1326.0   \n",
       "2         M        19.69         21.25          130.00     1203.0   \n",
       "3         M        11.42         20.38           77.58      386.1   \n",
       "4         M        20.29         14.34          135.10     1297.0   \n",
       "\n",
       "   smoothness_mean  compactness_mean  concavity_mean  concave points_mean  \\\n",
       "0          0.11840           0.27760          0.3001              0.14710   \n",
       "1          0.08474           0.07864          0.0869              0.07017   \n",
       "2          0.10960           0.15990          0.1974              0.12790   \n",
       "3          0.14250           0.28390          0.2414              0.10520   \n",
       "4          0.10030           0.13280          0.1980              0.10430   \n",
       "\n",
       "   symmetry_mean  ...  radius_worst  texture_worst  perimeter_worst  \\\n",
       "0         0.2419  ...         25.38          17.33           184.60   \n",
       "1         0.1812  ...         24.99          23.41           158.80   \n",
       "2         0.2069  ...         23.57          25.53           152.50   \n",
       "3         0.2597  ...         14.91          26.50            98.87   \n",
       "4         0.1809  ...         22.54          16.67           152.20   \n",
       "\n",
       "   area_worst  smoothness_worst  compactness_worst  concavity_worst  \\\n",
       "0      2019.0            0.1622             0.6656           0.7119   \n",
       "1      1956.0            0.1238             0.1866           0.2416   \n",
       "2      1709.0            0.1444             0.4245           0.4504   \n",
       "3       567.7            0.2098             0.8663           0.6869   \n",
       "4      1575.0            0.1374             0.2050           0.4000   \n",
       "\n",
       "   concave points_worst  symmetry_worst  fractal_dimension_worst  \n",
       "0                0.2654          0.4601                  0.11890  \n",
       "1                0.1860          0.2750                  0.08902  \n",
       "2                0.2430          0.3613                  0.08758  \n",
       "3                0.2575          0.6638                  0.17300  \n",
       "4                0.1625          0.2364                  0.07678  \n",
       "\n",
       "[5 rows x 31 columns]"
      ]
     },
     "execution_count": 4,
     "metadata": {},
     "output_type": "execute_result"
    }
   ],
   "source": [
    "#Wisconsin Breast Cancer dataset\n",
    "import matplotlib.pyplot as plt\n",
    "import io\n",
    "import pandas as pd\n",
    "from sklearn.preprocessing import StandardScaler\n",
    "\n",
    "Cancer = pd.read_csv(r'C:\\Users\\PC\\Documents\\R\\Cancerdata.csv')\n",
    "                 #header=None, encoding='utf-8')\n",
    "pd.set_option('display.max_rows', 5)\n",
    "\n",
    "# drop the ID column\n",
    "Cancer.drop(['id'], axis=1, inplace = True)\n",
    "\n",
    "#strip() takes out leading and trailing spaces\n",
    "Cancer.columns.str.strip()\n",
    "\n",
    "#View the first five rows\n",
    "Cancer.head()"
   ]
  },
  {
   "cell_type": "code",
   "execution_count": 5,
   "metadata": {},
   "outputs": [
    {
     "name": "stdout",
     "output_type": "stream",
     "text": [
      "Plot of Histogram showing the distribution of each feature\n"
     ]
    },
    {
     "data": {
      "image/png": "[encoded data removed]",
      "text/plain": [
       "<Figure size 1440x1080 with 30 Axes>"
      ]
     },
     "metadata": {
      "needs_background": "light"
     },
     "output_type": "display_data"
    }
   ],
   "source": [
    "print('Plot of Histogram showing the distribution of each feature')\n",
    "Cancer.hist(bins=50, figsize=(20,15))\n",
    "plt.show()"
   ]
  },
  {
   "cell_type": "code",
   "execution_count": 6,
   "metadata": {},
   "outputs": [
    {
     "name": "stdout",
     "output_type": "stream",
     "text": [
      "Encode the Categorical column--------[Done]\n"
     ]
    }
   ],
   "source": [
    "print('Encode the Categorical column--------[Done]')\n",
    "from sklearn.preprocessing import LabelEncoder\n",
    "encoder = LabelEncoder()\n",
    "Diagnosis = Cancer[\"diagnosis\"]\n",
    "Diagnosis_encoded = encoder.fit_transform(Diagnosis)\n",
    "Cancer[\"diagnosis\"]=Diagnosis_encoded"
   ]
  },
  {
   "cell_type": "code",
   "execution_count": 8,
   "metadata": {},
   "outputs": [
    {
     "name": "stdout",
     "output_type": "stream",
     "text": [
      "--------------- Split-out dataset [Done]\n"
     ]
    }
   ],
   "source": [
    "# Seperate the y from the x columns\n",
    "X = Cancer.drop('diagnosis',axis=1)\n",
    "Y = Cancer['diagnosis']\n",
    "\n",
    "from sklearn.model_selection import train_test_split\n",
    "X_train, X_validation, y_train, y_validation = train_test_split(X, Y, test_size=0.30, random_state=1)\n",
    "print('--------------- Split-out dataset [Done]')"
   ]
  },
  {
   "cell_type": "code",
   "execution_count": 10,
   "metadata": {},
   "outputs": [
    {
     "name": "stdout",
     "output_type": "stream",
     "text": [
      "Applying dimensionality Reduction using Principal Component Analysis [PCA]\n",
      "Best parameter (CV score=0.980):\n",
      "{'m__C': 100, 'm__gamma': 0.001, 'm__kernel': 'rbf', 'pca__n_components': 10}\n"
     ]
    },
    {
     "data": {
      "image/png": "[encoded data removed]",
      "text/plain": [
       "<Figure size 432x432 with 2 Axes>"
      ]
     },
     "metadata": {
      "needs_background": "light"
     },
     "output_type": "display_data"
    }
   ],
   "source": [
    "print('Applying dimensionality Reduction using Principal Component Analysis [PCA]')\n",
    "from sklearn.svm import SVC\n",
    "\n",
    "#Define Pipeline\n",
    "pca = PCA()\n",
    "#Define normalization using standard scaler\n",
    "scaler = StandardScaler()\n",
    "#Define model\n",
    "model4 = SVC(probability=True)\n",
    "\n",
    "pipe_svc = Pipeline(steps=[('s', scaler), ('pca', pca), ('m', model4)])\n",
    "\n",
    "\n",
    "# set parameters of pipelines using ‘__’ separated parameter names:\n",
    "param_grid = [{\"pca__n_components\": [2,5,10,15,20,30],\n",
    "              'm__kernel': ['rbf'], 'm__gamma': [1e-3, 1e-4],\n",
    "              'm__C': [1, 10,100,1000]},\n",
    "              {'m__kernel': ['linear'], 'm__C': [1, 10,100,1000]}]\n",
    "\n",
    "search = GridSearchCV(pipe_svc, param_grid, n_jobs=-1)\n",
    "\n",
    "#fit the Gridsearch\n",
    "clf_svc = search.fit(X_train, y_train)\n",
    "#Get Best Parameters\n",
    "print(\"Best parameter (CV score=%0.3f):\" % search.best_score_)\n",
    "print(search.best_params_)\n",
    "\n",
    "# Plot the PCA spectrum\n",
    "pca.fit(X_train)\n",
    "\n",
    "#plot\n",
    "fig, (ax0, ax1) = plt.subplots(nrows=2, sharex=True, figsize=(6, 6))\n",
    "ax0.plot(np.arange(1, pca.n_components_ + 1),\n",
    "         pca.explained_variance_ratio_, '+', linewidth=2)\n",
    "ax0.set_ylabel('PCA explained variance ratio')\n",
    "\n",
    "ax0.axvline(search.best_estimator_.named_steps['pca'].n_components,\n",
    "            linestyle=':', label='n_components chosen')\n",
    "ax0.legend(prop=dict(size=12))\n",
    "\n",
    "# For each number of components, find the best classifier results\n",
    "results = pd.DataFrame(search.cv_results_)\n",
    "components_col = 'param_pca__n_components'\n",
    "best_clfs = results.groupby(components_col).apply(\n",
    "    lambda g: g.nlargest(1, 'mean_test_score'))\n",
    "\n",
    "best_clfs.plot(x=components_col, y='mean_test_score', yerr='std_test_score',\n",
    "               legend=False, ax=ax1)\n",
    "ax1.set_ylabel('Classification accuracy (val)')\n",
    "ax1.set_xlabel('n_components')\n",
    "\n",
    "plt.xlim(-1, 35)\n",
    "\n",
    "plt.tight_layout()\n",
    "plt.show()"
   ]
  },
  {
   "cell_type": "code",
   "execution_count": 13,
   "metadata": {},
   "outputs": [
    {
     "name": "stdout",
     "output_type": "stream",
     "text": [
      "Done in 0.002s\n"
     ]
    }
   ],
   "source": [
    "#----------Test Best Parameters---------\n",
    "from sklearn.model_selection import cross_val_score\n",
    "from sklearn.model_selection import RepeatedStratifiedKFold\n",
    "from sklearn.metrics import accuracy_score\n",
    "from sklearn.metrics import classification_report, confusion_matrix\n",
    "from time import time\n",
    "t0 = time()\n",
    "clf_svc =clf_svc.best_estimator_\n",
    "y_pred_svc = clf_svc.predict(X_validation)\n",
    "print(\"Done in %0.3fs\" % (time() - t0))\n",
    "cv = RepeatedStratifiedKFold(n_splits=10, n_repeats=3, random_state=1)\n",
    "scores_cv_svc = cross_val_score(clf_svc, X_train, y_train, cv=cv)\n",
    "\n",
    "scores = cross_val_score(clf_svc, X_validation, y_validation, scoring='roc_auc', cv=cv, n_jobs=-1)\n",
    "\n"
   ]
  },
  {
   "cell_type": "code",
   "execution_count": 14,
   "metadata": {},
   "outputs": [
    {
     "name": "stdout",
     "output_type": "stream",
     "text": [
      "----------------------> [Support Vector performance summary]\n",
      "Accuracy: 0.971\n",
      "mean: 0.977 (std: 0.018)\n",
      "\n",
      "[[107   1]\n",
      " [  4  59]]\n",
      "              precision    recall  f1-score   support\n",
      "\n",
      "           0       0.96      0.99      0.98       108\n",
      "           1       0.98      0.94      0.96        63\n",
      "\n",
      "    accuracy                           0.97       171\n",
      "   macro avg       0.97      0.96      0.97       171\n",
      "weighted avg       0.97      0.97      0.97       171\n",
      "\n",
      "Mean ROC AUC: 0.995\n",
      "\n",
      "Misclassified examples: 5\n",
      "Misclassification/Error rate: 0.083 %\n",
      "Test set Accuracy: 0.971\n",
      "Training set Accuracy: 0.985\n",
      "--------------- Support Vector Classifier --Parameters specified-- : classifier.fit [Done]\n"
     ]
    }
   ],
   "source": [
    "#---------Classification report--------\n",
    "print (\"----------------------> [Support Vector performance summary]\")\n",
    "print(\"Accuracy: {:.3f}\".format(accuracy_score(y_pred_svc, y_validation)))\n",
    "print(\"mean: {:.3f} (std: {:.3f})\".format(scores_cv_svc.mean(),\n",
    "                                          scores_cv_svc.std()),\n",
    "                                          end=\"\\n\\n\" )\n",
    "print(confusion_matrix(y_validation,y_pred_svc))\n",
    "print(classification_report(y_validation,y_pred_svc))\n",
    "print('Mean ROC AUC: %.3f' % scores.mean(), end=\"\\n\\n\")\n",
    "print('Misclassified examples: %d' % (y_validation != y_pred_svc).sum())\n",
    "print('Misclassification/Error rate: %.3f' % ((y_validation != y_pred_svc).sum()/y_pred_svc.sum()) + ' %')\n",
    "print(\"Test set Accuracy: {:.3f}\".format(clf_svc.score(X_validation, y_validation)))\n",
    "print(\"Training set Accuracy: {:.3f}\".format(clf_svc.score(X_train, y_train)))\n",
    "print('--------------- Support Vector Classifier --Parameters specified-- : classifier.fit [Done]')"
   ]
  },
  {
   "cell_type": "code",
   "execution_count": 15,
   "metadata": {},
   "outputs": [
    {
     "data": {
      "image/png": "[encoded data removed]",
      "text/plain": [
       "<Figure size 288x216 with 2 Axes>"
      ]
     },
     "metadata": {
      "needs_background": "light"
     },
     "output_type": "display_data"
    }
   ],
   "source": [
    "plt.figure(figsize=(4,3))\n",
    "cm =confusion_matrix(y_validation, y_pred_svc)\n",
    "sns.heatmap(cm,annot=True, cmap=\"Blues\", fmt=\"d\", \n",
    "            xticklabels = ['Benign', 'Malignant'], \n",
    "            yticklabels = ['Benign', 'Malignant'])\n",
    "plt.ylabel('True')\n",
    "plt.xlabel('Predicted')\n",
    "plt.title(\"Confusion Matrix for Support Vectore Using PCA\");"
   ]
  },
  {
   "cell_type": "code",
   "execution_count": 17,
   "metadata": {},
   "outputs": [
    {
     "name": "stdout",
     "output_type": "stream",
     "text": [
      "\n",
      "Prediction accuracy for the standardized test dataset with PCA -SVC\n",
      "97.08%\n",
      "\n",
      "\n",
      "PC 1 with:\n",
      " [0.22840435 0.11459603 0.23535896 0.23006804 0.13287554 0.23665125\n",
      " 0.25728371 0.26063846 0.12980642 0.04072285 0.20668039 0.01403714\n",
      " 0.21082108 0.20303925 0.00920246 0.16404168 0.15189164 0.17759851\n",
      " 0.02342551 0.09062191 0.23340006 0.1129634  0.24101228 0.22996358\n",
      " 0.12075504 0.20839579 0.23202745 0.24934109 0.11715877 0.12319076]\n",
      "\n",
      "PC 2 with:\n",
      " [-0.21279079 -0.06584905 -0.1951508  -0.20926326  0.19756295  0.16214611\n",
      "  0.06508838 -0.02336025  0.19063184  0.37857151 -0.09065476  0.10210316\n",
      " -0.07890224 -0.13730365  0.22275577  0.25267161  0.21665334  0.15427451\n",
      "  0.18942265  0.30374253 -0.2080996  -0.06010889 -0.18944108 -0.20663622\n",
      "  0.16229606  0.13041973  0.08349775 -0.01238619  0.10660055  0.27448168]\n"
     ]
    },
    {
     "data": {
      "image/png": "[encoded data removed]",
      "text/plain": [
       "<Figure size 432x288 with 1 Axes>"
      ]
     },
     "metadata": {
      "needs_background": "light"
     },
     "output_type": "display_data"
    }
   ],
   "source": [
    "from sklearn.preprocessing import StandardScaler\n",
    "from sklearn.decomposition import PCA\n",
    "from sklearn import metrics\n",
    "import matplotlib.pyplot as plt\n",
    "\n",
    "FIG_SIZE = (10, 7)\n",
    "# Fit to data and predict using pipelined scaling, GNB and PCA.\n",
    "pipe_svc.fit(X_train, y_train)\n",
    "pred_test_std = pipe_svc.predict(X_validation)\n",
    "\n",
    "# Show prediction accuracies in scaled and unscaled data.\n",
    "print('\\nPrediction accuracy for the standardized test dataset with PCA -SVC')\n",
    "print('{:.2%}\\n'.format(metrics.accuracy_score(y_validation, pred_test_std)))\n",
    "\n",
    "# Extract PCA from pipeline\n",
    "pca_std = pipe_svc.named_steps['pca']\n",
    "\n",
    "# Show first principal components\n",
    "print('\\nPC 1 with:\\n', pca_std.components_[0])\n",
    "print('\\nPC 2 with:\\n', pca_std.components_[1])\n",
    "# Use PCA without and with scale on X_train data for visualization.\n",
    "scaler = pipe_svc.named_steps['s']\n",
    "X_train_std_transformed = pca_std.transform(scaler.transform(X_train))\n",
    "\n",
    "# visualize standardized vs. untouched dataset with PCA performed\n",
    "fig, ax = plt.subplots()\n",
    "\n",
    "for l, c, m in zip(range(0, 2), ('blue', 'red'), ('^', 's')):\n",
    "    ax.scatter(X_train_std_transformed[y_train == l, 0],\n",
    "                X_train_std_transformed[y_train == l, 1],\n",
    "                color=c,\n",
    "                label='class %s' % l,\n",
    "                alpha=0.5,\n",
    "                marker=m\n",
    "                )\n",
    "\n",
    "ax.set_title('Standardized training dataset after PCA')\n",
    "ax.set_xlabel('1st principal component')\n",
    "ax.set_ylabel('2nd principal component')\n",
    "ax.legend(loc='upper right')\n",
    "ax.grid()\n",
    "\n",
    "plt.tight_layout()\n",
    "\n",
    "plt.show()"
   ]
  },
  {
   "cell_type": "code",
   "execution_count": 1,
   "metadata": {},
   "outputs": [],
   "source": [
    "#importing dataset and libraries\n",
    "import matplotlib.pyplot as plt\n",
    "import numpy as np\n",
    "import pandas as pd\n",
    "import seaborn as sns\n",
    "import matplotlib.image as mpl"
   ]
  },
  {
   "cell_type": "code",
   "execution_count": 2,
   "metadata": {},
   "outputs": [
    {
     "data": {
      "text/html": [
       "<div>\n",
       "<style scoped>\n",
       "    .dataframe tbody tr th:only-of-type {\n",
       "        vertical-align: middle;\n",
       "    }\n",
       "\n",
       "    .dataframe tbody tr th {\n",
       "        vertical-align: top;\n",
       "    }\n",
       "\n",
       "    .dataframe thead th {\n",
       "        text-align: right;\n",
       "    }\n",
       "</style>\n",
       "<table border=\"1\" class=\"dataframe\">\n",
       "  <thead>\n",
       "    <tr style=\"text-align: right;\">\n",
       "      <th></th>\n",
       "      <th>ID</th>\n",
       "      <th>LIMIT_BAL</th>\n",
       "      <th>SEX</th>\n",
       "      <th>EDUCATION</th>\n",
       "      <th>MARRIAGE</th>\n",
       "      <th>AGE</th>\n",
       "      <th>PAY_0</th>\n",
       "      <th>PAY_2</th>\n",
       "      <th>PAY_3</th>\n",
       "      <th>PAY_4</th>\n",
       "      <th>...</th>\n",
       "      <th>BILL_AMT4</th>\n",
       "      <th>BILL_AMT5</th>\n",
       "      <th>BILL_AMT6</th>\n",
       "      <th>PAY_AMT1</th>\n",
       "      <th>PAY_AMT2</th>\n",
       "      <th>PAY_AMT3</th>\n",
       "      <th>PAY_AMT4</th>\n",
       "      <th>PAY_AMT5</th>\n",
       "      <th>PAY_AMT6</th>\n",
       "      <th>default payment next month</th>\n",
       "    </tr>\n",
       "  </thead>\n",
       "  <tbody>\n",
       "    <tr>\n",
       "      <td>0</td>\n",
       "      <td>1</td>\n",
       "      <td>20000</td>\n",
       "      <td>2</td>\n",
       "      <td>2</td>\n",
       "      <td>1</td>\n",
       "      <td>24</td>\n",
       "      <td>2</td>\n",
       "      <td>2</td>\n",
       "      <td>-1</td>\n",
       "      <td>-1</td>\n",
       "      <td>...</td>\n",
       "      <td>0</td>\n",
       "      <td>0</td>\n",
       "      <td>0</td>\n",
       "      <td>0</td>\n",
       "      <td>689</td>\n",
       "      <td>0</td>\n",
       "      <td>0</td>\n",
       "      <td>0</td>\n",
       "      <td>0</td>\n",
       "      <td>1</td>\n",
       "    </tr>\n",
       "    <tr>\n",
       "      <td>1</td>\n",
       "      <td>2</td>\n",
       "      <td>120000</td>\n",
       "      <td>2</td>\n",
       "      <td>2</td>\n",
       "      <td>2</td>\n",
       "      <td>26</td>\n",
       "      <td>-1</td>\n",
       "      <td>2</td>\n",
       "      <td>0</td>\n",
       "      <td>0</td>\n",
       "      <td>...</td>\n",
       "      <td>3272</td>\n",
       "      <td>3455</td>\n",
       "      <td>3261</td>\n",
       "      <td>0</td>\n",
       "      <td>1000</td>\n",
       "      <td>1000</td>\n",
       "      <td>1000</td>\n",
       "      <td>0</td>\n",
       "      <td>2000</td>\n",
       "      <td>1</td>\n",
       "    </tr>\n",
       "    <tr>\n",
       "      <td>2</td>\n",
       "      <td>3</td>\n",
       "      <td>90000</td>\n",
       "      <td>2</td>\n",
       "      <td>2</td>\n",
       "      <td>2</td>\n",
       "      <td>34</td>\n",
       "      <td>0</td>\n",
       "      <td>0</td>\n",
       "      <td>0</td>\n",
       "      <td>0</td>\n",
       "      <td>...</td>\n",
       "      <td>14331</td>\n",
       "      <td>14948</td>\n",
       "      <td>15549</td>\n",
       "      <td>1518</td>\n",
       "      <td>1500</td>\n",
       "      <td>1000</td>\n",
       "      <td>1000</td>\n",
       "      <td>1000</td>\n",
       "      <td>5000</td>\n",
       "      <td>0</td>\n",
       "    </tr>\n",
       "    <tr>\n",
       "      <td>3</td>\n",
       "      <td>4</td>\n",
       "      <td>50000</td>\n",
       "      <td>2</td>\n",
       "      <td>2</td>\n",
       "      <td>1</td>\n",
       "      <td>37</td>\n",
       "      <td>0</td>\n",
       "      <td>0</td>\n",
       "      <td>0</td>\n",
       "      <td>0</td>\n",
       "      <td>...</td>\n",
       "      <td>28314</td>\n",
       "      <td>28959</td>\n",
       "      <td>29547</td>\n",
       "      <td>2000</td>\n",
       "      <td>2019</td>\n",
       "      <td>1200</td>\n",
       "      <td>1100</td>\n",
       "      <td>1069</td>\n",
       "      <td>1000</td>\n",
       "      <td>0</td>\n",
       "    </tr>\n",
       "    <tr>\n",
       "      <td>4</td>\n",
       "      <td>5</td>\n",
       "      <td>50000</td>\n",
       "      <td>1</td>\n",
       "      <td>2</td>\n",
       "      <td>1</td>\n",
       "      <td>57</td>\n",
       "      <td>-1</td>\n",
       "      <td>0</td>\n",
       "      <td>-1</td>\n",
       "      <td>0</td>\n",
       "      <td>...</td>\n",
       "      <td>20940</td>\n",
       "      <td>19146</td>\n",
       "      <td>19131</td>\n",
       "      <td>2000</td>\n",
       "      <td>36681</td>\n",
       "      <td>10000</td>\n",
       "      <td>9000</td>\n",
       "      <td>689</td>\n",
       "      <td>679</td>\n",
       "      <td>0</td>\n",
       "    </tr>\n",
       "  </tbody>\n",
       "</table>\n",
       "<p>5 rows × 25 columns</p>\n",
       "</div>"
      ],
      "text/plain": [
       "   ID  LIMIT_BAL  SEX  EDUCATION  MARRIAGE  AGE  PAY_0  PAY_2  PAY_3  PAY_4  \\\n",
       "0   1      20000    2          2         1   24      2      2     -1     -1   \n",
       "1   2     120000    2          2         2   26     -1      2      0      0   \n",
       "2   3      90000    2          2         2   34      0      0      0      0   \n",
       "3   4      50000    2          2         1   37      0      0      0      0   \n",
       "4   5      50000    1          2         1   57     -1      0     -1      0   \n",
       "\n",
       "   ...  BILL_AMT4  BILL_AMT5  BILL_AMT6  PAY_AMT1  PAY_AMT2  PAY_AMT3  \\\n",
       "0  ...          0          0          0         0       689         0   \n",
       "1  ...       3272       3455       3261         0      1000      1000   \n",
       "2  ...      14331      14948      15549      1518      1500      1000   \n",
       "3  ...      28314      28959      29547      2000      2019      1200   \n",
       "4  ...      20940      19146      19131      2000     36681     10000   \n",
       "\n",
       "   PAY_AMT4  PAY_AMT5  PAY_AMT6  default payment next month  \n",
       "0         0         0         0                           1  \n",
       "1      1000         0      2000                           1  \n",
       "2      1000      1000      5000                           0  \n",
       "3      1100      1069      1000                           0  \n",
       "4      9000       689       679                           0  \n",
       "\n",
       "[5 rows x 25 columns]"
      ]
     },
     "execution_count": 2,
     "metadata": {},
     "output_type": "execute_result"
    }
   ],
   "source": [
    "import io\n",
    "\n",
    "df =pd.read_csv(r'C:\\Users\\evan-\\Downloads\\Creditcard.csv', skiprows = 1)\n",
    "pd.options.display.max_rows = 10 #10 max rows so going forward it's not so messy to look at\n",
    "\n",
    "df.head() #showing first 5 rows here"
   ]
  },
  {
   "cell_type": "code",
   "execution_count": 3,
   "metadata": {},
   "outputs": [],
   "source": [
    "# ID adds nothing, drop it like it's hot\n",
    "df.drop(['ID'], inplace = True, axis = 1)"
   ]
  },
  {
   "cell_type": "code",
   "execution_count": 4,
   "metadata": {},
   "outputs": [],
   "source": [
    "# Sex is antiquated, change that (to Gender) and Limit Bal (to Limit), 'Default payment next month' to 'Default'\n",
    "df=df.rename(columns={'SEX':'GENDER', 'LIMIT_BAL':'LIMIT', 'Default payment next month':'DEFAULT'})"
   ]
  },
  {
   "cell_type": "code",
   "execution_count": 5,
   "metadata": {},
   "outputs": [
    {
     "data": {
      "text/plain": [
       "LIMIT                         0.0\n",
       "GENDER                        0.0\n",
       "EDUCATION                     0.0\n",
       "MARRIAGE                      0.0\n",
       "AGE                           0.0\n",
       "                             ... \n",
       "PAY_AMT3                      0.0\n",
       "PAY_AMT4                      0.0\n",
       "PAY_AMT5                      0.0\n",
       "PAY_AMT6                      0.0\n",
       "default payment next month    0.0\n",
       "Length: 24, dtype: float64"
      ]
     },
     "execution_count": 5,
     "metadata": {},
     "output_type": "execute_result"
    }
   ],
   "source": [
    "#let's check for null values.\n",
    "df.isnull().sum()/df.shape[0]\n"
   ]
  },
  {
   "cell_type": "code",
   "execution_count": 6,
   "metadata": {},
   "outputs": [
    {
     "data": {
      "text/plain": [
       "array([2, 1, 3, 5, 4, 6, 0], dtype=int64)"
      ]
     },
     "execution_count": 6,
     "metadata": {},
     "output_type": "execute_result"
    }
   ],
   "source": [
    "df['EDUCATION'].unique()"
   ]
  },
  {
   "cell_type": "code",
   "execution_count": 7,
   "metadata": {},
   "outputs": [],
   "source": [
    "# Education: 5, 6, 0 denote 'Other'. That's too many; I want to replace those with 4 for a catchall 'Other' category\n",
    "\n",
    "df['EDUCATION']=np.where(df['EDUCATION']==5, 4, df['EDUCATION'])\n",
    "df['EDUCATION']=np.where(df['EDUCATION']==6, 4, df['EDUCATION'])\n",
    "df['EDUCATION']=np.where(df['EDUCATION']==0, 4, df['EDUCATION'])"
   ]
  },
  {
   "cell_type": "code",
   "execution_count": 8,
   "metadata": {},
   "outputs": [],
   "source": [
    "#isolate Independent Var, X (pay_0:pay_6) and Dependent Var, Y (Default) using pandas manipulation.\n",
    "import sklearn\n",
    "from sklearn.model_selection import train_test_split\n",
    "from sklearn.preprocessing import StandardScaler\n",
    "\n",
    "\n",
    "X = df.drop('default payment next month', axis=1)\n",
    "y = df['default payment next month']\n",
    "X_train, X_test, y_train, y_test = train_test_split(X, y, test_size=.20, random_state=33, stratify = y)\n",
    "# split this ish\n",
    "# scale \n",
    "scaler = StandardScaler()\n",
    "scaler.fit(X)\n",
    "X_scaled = scaler.transform(X)"
   ]
  },
  {
   "cell_type": "code",
   "execution_count": 9,
   "metadata": {},
   "outputs": [],
   "source": [
    "from sklearn.decomposition import PCA # keep the first two principal components of the data \n",
    "\n",
    "pca = PCA(n_components=2) # fit PCA model to breast cancer data \n",
    "pca.fit(X_scaled)# transform data onto the first two principal components \n",
    "\n",
    "X_pca = pca.transform(X_scaled) "
   ]
  },
  {
   "cell_type": "code",
   "execution_count": 10,
   "metadata": {},
   "outputs": [
    {
     "name": "stdout",
     "output_type": "stream",
     "text": [
      "The  reduced features account for the following % variability in Credit Card dataset:\n",
      "  [0.61043701 0.29535381]\n"
     ]
    }
   ],
   "source": [
    "from sklearn.decomposition import PCA\n",
    "\n",
    "pca\t= PCA(n_components = 2) \n",
    "X2D\t= pca.fit_transform(X)\n",
    "\n",
    "pca.explained_variance_ratio_\n",
    "\n",
    "print(\"The  reduced features account for the following % variability in Credit Card dataset:\\n \"\n",
    "      , pca.explained_variance_ratio_)\n",
    "# reducing to 2 features using PCA, 98% of the variance is explained by the first dimenstion, 1.6% by the second"
   ]
  },
  {
   "cell_type": "code",
   "execution_count": 11,
   "metadata": {},
   "outputs": [
    {
     "data": {
      "text/plain": [
       "4"
      ]
     },
     "execution_count": 11,
     "metadata": {},
     "output_type": "execute_result"
    }
   ],
   "source": [
    "import numpy as np\n",
    "\n",
    "pca\t= PCA() \n",
    "pca.fit(X) \n",
    "cumsum = np.cumsum(pca.explained_variance_ratio_) \n",
    "d = np.argmax(cumsum >= 0.95) + 1\n",
    "d\n",
    "# compute PCA without reducing dimensionality, then computes minumum number of dimensions required\n",
    "# to preserve 95% of the training set's variance\n",
    "# 1 feature accounts for greater than or equal to 95% of the training dataset's variabiltiy"
   ]
  },
  {
   "cell_type": "code",
   "execution_count": 12,
   "metadata": {},
   "outputs": [
    {
     "data": {
      "text/plain": [
       "Text(0.5, 1.0, '\\nExplained Variance by # of Dimensions using PCA\\n')"
      ]
     },
     "execution_count": 12,
     "metadata": {},
     "output_type": "execute_result"
    },
    {
     "data": {
      "image/png": "[encoded data removed]",
      "text/plain": [
       "<Figure size 432x288 with 1 Axes>"
      ]
     },
     "metadata": {
      "needs_background": "light"
     },
     "output_type": "display_data"
    }
   ],
   "source": [
    "# Explained variance\n",
    "\n",
    "# scale it\n",
    "\n",
    "from sklearn.preprocessing import StandardScaler\n",
    "import numpy as np\n",
    "\n",
    "scaler = StandardScaler()\n",
    "scaler.fit(X)\n",
    "X_scaled = scaler.transform(X)\n",
    "\n",
    "plt.plot(cumsum)\n",
    "plt.xlabel(\"Number of dimensions\")\n",
    "plt.ylabel(\"Explained Variance\")\n",
    "plt.title(\"\\nExplained Variance by # of Dimensions using PCA\\n\")\n",
    "# pretty much all of the variability is explained after 2 dimensions"
   ]
  },
  {
   "cell_type": "code",
   "execution_count": 13,
   "metadata": {},
   "outputs": [
    {
     "name": "stderr",
     "output_type": "stream",
     "text": [
      "C:\\Users\\evan-\\Anaconda3\\lib\\site-packages\\sklearn\\externals\\six.py:31: DeprecationWarning: The module is deprecated in version 0.21 and will be removed in version 0.23 since we've dropped support for Python 2.7. Please rely on the official version of six (https://pypi.org/project/six/).\n",
      "  \"(https://pypi.org/project/six/).\", DeprecationWarning)\n",
      "C:\\Users\\evan-\\Anaconda3\\lib\\site-packages\\sklearn\\externals\\joblib\\__init__.py:15: DeprecationWarning: sklearn.externals.joblib is deprecated in 0.21 and will be removed in 0.23. Please import this functionality directly from joblib, which can be installed with: pip install joblib. If this warning is raised when loading pickled models, you may need to re-serialize those models with scikit-learn 0.21+.\n",
      "  warnings.warn(msg, category=DeprecationWarning)\n"
     ]
    },
    {
     "data": {
      "text/plain": [
       "Text(0, 0.5, 'Second principal component')"
      ]
     },
     "execution_count": 13,
     "metadata": {},
     "output_type": "execute_result"
    },
    {
     "data": {
      "image/png": "[encoded data removed]",
      "text/plain": [
       "<Figure size 576x576 with 1 Axes>"
      ]
     },
     "metadata": {
      "needs_background": "light"
     },
     "output_type": "display_data"
    }
   ],
   "source": [
    "import numpy as np\n",
    "\n",
    "import mglearn\n",
    "\n",
    "# plot the 2 principal components\n",
    "\n",
    "# plot first vs. second principal component, colored by class \n",
    "plt.figure(figsize=(8, 8)) \n",
    "mglearn.discrete_scatter(X_pca[:, 0], X_pca[:, 1], y) \n",
    "plt.legend([\"Default\", \"No Default\"],\n",
    "           loc=\"best\") \n",
    "plt.gca().set_aspect(\"equal\") \n",
    "plt.title(\"Default and No Default PCA\")\n",
    "plt.xlabel(\"First principal component\") \n",
    "plt.ylabel(\"Second principal component\")\n",
    "\n"
   ]
  },
  {
   "cell_type": "code",
   "execution_count": 14,
   "metadata": {},
   "outputs": [
    {
     "name": "stderr",
     "output_type": "stream",
     "text": [
      "C:\\Users\\evan-\\Anaconda3\\lib\\site-packages\\sklearn\\model_selection\\_split.py:1978: FutureWarning: The default value of cv will change from 3 to 5 in version 0.22. Specify it explicitly to silence this warning.\n",
      "  warnings.warn(CV_WARNING, FutureWarning)\n"
     ]
    },
    {
     "name": "stdout",
     "output_type": "stream",
     "text": [
      "Best parameters (CV score = 81.22%)\n",
      "Best parameters:\n",
      "{'pca__n_components': 20, 'm__subsample': 0.8, 'm__silent': 0, 'm__reg_lambda': 50.0, 'm__min_child_weight': 1.0, 'm__max_depth': 20, 'm__gamma': 0, 'm__eta': 0.1, 'm__colsample_bytree': 0.9, 'm__colsample_bylevel': 0.8, 'm__booster': 'gbtree'}\n",
      "\n",
      "\n"
     ]
    },
    {
     "data": {
      "image/png": "[encoded data removed]",
      "text/plain": [
       "<Figure size 432x432 with 2 Axes>"
      ]
     },
     "metadata": {
      "needs_background": "light"
     },
     "output_type": "display_data"
    }
   ],
   "source": [
    "import matplotlib.pyplot as plt\n",
    "from sklearn import datasets\n",
    "from sklearn.decomposition import PCA\n",
    "from sklearn.linear_model import LogisticRegression\n",
    "from sklearn.pipeline import Pipeline\n",
    "from sklearn.model_selection import GridSearchCV\n",
    "from sklearn.preprocessing import StandardScaler\n",
    "from sklearn.tree import DecisionTreeClassifier\n",
    "from xgboost import XGBClassifier\n",
    "from sklearn.model_selection import RandomizedSearchCV\n",
    "\n",
    "#Define Pipeline\n",
    "pca = PCA()\n",
    "#Define normalization using standard scaler\n",
    "scaler = StandardScaler()\n",
    "#Define model\n",
    "model1 = XGBClassifier()\n",
    "\n",
    "pipe_xg = Pipeline(steps=[('s', scaler), ('pca', pca), ('m', model1)]) # set up the pipeline\n",
    "\n",
    "X_train, X_test, y_train, y_test = train_test_split(X, y, test_size=.20, random_state=33, stratify = y)\n",
    "# setting the stratify parameter makes a split so that the proportion of values in the sample\n",
    "# produced will be the same as the proportion of values provided, ie correct proportion of Default to No Default\n",
    "\n",
    "# set parameters of pipelines using ‘__’ separated parameter names:\n",
    "\n",
    "param_grid = {\"pca__n_components\":[1,2,3,4,5, 10, 15, 20, 23],\n",
    "              'm__silent': [0],\n",
    "              'm__max_depth': [6, 10, 15, 20],\n",
    "              'm__eta': [0.001, 0.01, 0.1, 0.2, 0,3], #learning rate\n",
    "              'm__subsample': [0.5, 0.6, 0.7, 0.8, 0.9, 1.0],\n",
    "              'm__colsample_bytree': [0.4, 0.5, 0.6, 0.7, 0.8, 0.9, 1.0],\n",
    "              'm__colsample_bylevel': [0.4, 0.5, 0.6, 0.7, 0.8, 0.9, 1.0],\n",
    "              'm__min_child_weight': [0.5, 1.0, 3.0, 5.0, 7.0, 10.0],\n",
    "              'm__gamma': [0, 0.25, 0.5, 1.0],\n",
    "              'm__reg_lambda': [0.1, 1.0, 5.0, 10.0, 50.0, 100.0], #L2 default is 1, akin to Ridge regression\n",
    "              'm__booster':['gbtree']\n",
    "              }\n",
    "\n",
    "search = RandomizedSearchCV(pipe_xg, param_grid, n_jobs=-1)\n",
    "\n",
    "#fit the Gridsearch\n",
    "clf_xg = search.fit(X_train, y_train)\n",
    "#Get Best Parameters\n",
    "best_param_score = search.best_score_ *100\n",
    "print(\"Best parameters (CV score = {:.2f}%)\".format(best_param_score))\n",
    "print(\"Best parameters:\")\n",
    "print(search.best_params_)\n",
    "print('\\n')\n",
    "\n",
    "# Plot the PCA spectrum\n",
    "pca.fit(X_train)\n",
    "\n",
    "#plot\n",
    "\n",
    "fig, (ax0, ax1) = plt.subplots(nrows=2, sharex=True, figsize=(6, 6))\n",
    "plt.title(\"PCA Optimization\")\n",
    "ax0.plot(np.arange(1, pca.n_components_ + 1),\n",
    "         pca.explained_variance_ratio_, '+', linewidth=2)\n",
    "ax0.set_ylabel('PCA explained variance ratio')\n",
    "\n",
    "ax0.axvline(search.best_estimator_.named_steps['pca'].n_components,\n",
    "            linestyle=':', label='n_components chosen')\n",
    "ax0.legend(prop=dict(size=12))\n",
    "\n",
    "# For each number of components, find the best classifier results\n",
    "results = pd.DataFrame(search.cv_results_)\n",
    "components_col = 'param_pca__n_components'\n",
    "best_clfs = results.groupby(components_col).apply(\n",
    "    lambda g: g.nlargest(1, 'mean_test_score'))\n",
    "\n",
    "best_clfs.plot(x=components_col, y='mean_test_score', yerr='std_test_score',\n",
    "               legend=False, ax=ax1)\n",
    "ax1.set_ylabel('\\nClassification accuracy (val)')\n",
    "ax1.set_xlabel('n_components')\n",
    "\n",
    "plt.xlim(-1, 25)\n",
    "\n",
    "plt.tight_layout()\n",
    "plt.show()\n",
    "\n"
   ]
  },
  {
   "cell_type": "markdown",
   "metadata": {},
   "source": [
    "SVM"
   ]
  },
  {
   "cell_type": "code",
   "execution_count": 15,
   "metadata": {},
   "outputs": [
    {
     "name": "stdout",
     "output_type": "stream",
     "text": [
      "Applying dimensionality Reduction using Principal Component Analysis [PCA]\n",
      "Fitting 3 folds for each of 48 candidates, totalling 144 fits\n"
     ]
    },
    {
     "name": "stderr",
     "output_type": "stream",
     "text": [
      "C:\\Users\\evan-\\Anaconda3\\lib\\site-packages\\sklearn\\model_selection\\_split.py:1978: FutureWarning: The default value of cv will change from 3 to 5 in version 0.22. Specify it explicitly to silence this warning.\n",
      "  warnings.warn(CV_WARNING, FutureWarning)\n",
      "[Parallel(n_jobs=-1)]: Using backend LokyBackend with 16 concurrent workers.\n",
      "[Parallel(n_jobs=-1)]: Done   9 tasks      | elapsed:   39.1s\n",
      "[Parallel(n_jobs=-1)]: Done 144 out of 144 | elapsed: 10.4min finished\n"
     ]
    },
    {
     "name": "stdout",
     "output_type": "stream",
     "text": [
      "Best parameter (CV score=0.817):\n",
      "{'m__C': 100, 'm__gamma': 0.001, 'm__kernel': 'rbf', 'pca__n_components': 20}\n"
     ]
    }
   ],
   "source": [
    "print('Applying dimensionality Reduction using Principal Component Analysis [PCA]')\n",
    "from sklearn.svm import SVC\n",
    "\n",
    "#Define Pipeline\n",
    "pca = PCA()\n",
    "#Define normalization using standard scaler\n",
    "scaler = StandardScaler()\n",
    "#Define model\n",
    "model4 = SVC(probability=True)\n",
    "\n",
    "pipe_svc = Pipeline(steps=[('s', scaler), ('pca', pca), ('m', model4)])\n",
    "\n",
    "# set parameters of pipelines using ‘__’ separated parameter names:\n",
    "param_grid = {\"pca__n_components\": [2,5,10,15,20,23],\n",
    "              'm__kernel': ['rbf'], \n",
    "              'm__gamma': [1e-3, 1e-4],\n",
    "              'm__C': [1, 10,100,1000]\n",
    "              }\n",
    "search = GridSearchCV(pipe_svc, param_grid, n_jobs=-1, verbose=2)\n",
    "\n",
    "#fit the Gridsearch\n",
    "clf_svc = search.fit(X_train, y_train)\n",
    "#Get Best Parameters\n",
    "\n",
    "print(\"Best parameter (CV score=%0.3f):\" % search.best_score_)\n",
    "print(search.best_params_)\n",
    "\n"
   ]
  },
  {
   "cell_type": "code",
   "execution_count": 16,
   "metadata": {},
   "outputs": [
    {
     "name": "stdout",
     "output_type": "stream",
     "text": [
      "Done in 1.185s\n",
      "checkpoint 1\n",
      "Checkpoint 2\n"
     ]
    }
   ],
   "source": [
    "#----------Test Best Parameters---------\n",
    "from sklearn.model_selection import cross_val_score\n",
    "from sklearn.model_selection import RepeatedStratifiedKFold\n",
    "from sklearn.metrics import accuracy_score\n",
    "from sklearn.metrics import classification_report, confusion_matrix\n",
    "from time import time\n",
    "from sklearn.pipeline import Pipeline\n",
    "\n",
    "t0 = time()\n",
    "clf_svc =clf_svc.best_estimator_\n",
    "y_pred_svc = clf_svc.predict(X_test)\n",
    "print(\"Done in %0.3fs\" % (time() - t0))\n",
    "cv = RepeatedStratifiedKFold(n_splits=10, n_repeats=3, random_state=1)\n",
    "print(\"checkpoint 1\")\n",
    "scores_cv_svc = cross_val_score(clf_svc, X_train, y_train, cv=cv)\n",
    "print(\"Checkpoint 2\")\n",
    "scores = cross_val_score(clf_svc, X_test, y_test, scoring='roc_auc', cv=cv, n_jobs=-1)"
   ]
  },
  {
   "cell_type": "code",
   "execution_count": 17,
   "metadata": {},
   "outputs": [
    {
     "name": "stdout",
     "output_type": "stream",
     "text": [
      "----------------------> [Support Vector performance summary]\n",
      "Accuracy: 0.824\n",
      "mean: 0.818 (std: 0.006)\n",
      "\n",
      "[[4491  182]\n",
      " [ 873  454]]\n",
      "              precision    recall  f1-score   support\n",
      "\n",
      "           0       0.84      0.96      0.89      4673\n",
      "           1       0.71      0.34      0.46      1327\n",
      "\n",
      "    accuracy                           0.82      6000\n",
      "   macro avg       0.78      0.65      0.68      6000\n",
      "weighted avg       0.81      0.82      0.80      6000\n",
      "\n",
      "Misclassified examples: 1055\n",
      "Misclassification/Error rate: 1.659 %\n",
      "Test set Accuracy: 0.824\n",
      "Training set Accuracy: 0.819\n",
      "--------------- Support Vector Classifier --Parameters specified-- : classifier.fit [Done]\n"
     ]
    }
   ],
   "source": [
    "#---------Classification report--------\n",
    "print (\"----------------------> [Support Vector performance summary]\")\n",
    "print(\"Accuracy: {:.3f}\".format(accuracy_score(y_pred_svc, y_test)))\n",
    "print(\"mean: {:.3f} (std: {:.3f})\".format(scores_cv_svc.mean(),\n",
    "                                          scores_cv_svc.std()),\n",
    "                                          end=\"\\n\\n\" )\n",
    "print(confusion_matrix(y_test,y_pred_svc))\n",
    "print(classification_report(y_test,y_pred_svc))\n",
    "print('Misclassified examples: %d' % (y_test != y_pred_svc).sum())\n",
    "print('Misclassification/Error rate: %.3f' % ((y_test != y_pred_svc).sum()/y_pred_svc.sum()) + ' %')\n",
    "print(\"Test set Accuracy: {:.3f}\".format(clf_svc.score(X_test, y_test)))\n",
    "print(\"Training set Accuracy: {:.3f}\".format(clf_svc.score(X_train, y_train)))\n",
    "print('--------------- Support Vector Classifier --Parameters specified-- : classifier.fit [Done]')"
   ]
  },
  {
   "cell_type": "code",
   "execution_count": 18,
   "metadata": {},
   "outputs": [
    {
     "data": {
      "image/png": "[encoded data removed]",
      "text/plain": [
       "<Figure size 288x216 with 2 Axes>"
      ]
     },
     "metadata": {
      "needs_background": "light"
     },
     "output_type": "display_data"
    }
   ],
   "source": [
    "#plot of confusion matrix\n",
    "plt.figure(figsize=(4,3))\n",
    "cm =confusion_matrix(y_test, y_pred_svc)\n",
    "sns.heatmap(cm,annot=True, cmap=\"Blues\", fmt=\"d\", \n",
    "              xticklabels = ['Predict Neg', 'Predict Pos'], \n",
    "            yticklabels = ['True Neg', 'True Pos'])\n",
    "plt.ylabel('True')\n",
    "plt.xlabel('Predicted')\n",
    "plt.title(\"Confusion Matrix for Support Vector Using PCA\")\n",
    "plt.show()"
   ]
  },
  {
   "cell_type": "code",
   "execution_count": 2,
   "metadata": {},
   "outputs": [
    {
     "data": {
      "text/html": [
       "<div>\n",
       "<style scoped>\n",
       "    .dataframe tbody tr th:only-of-type {\n",
       "        vertical-align: middle;\n",
       "    }\n",
       "\n",
       "    .dataframe tbody tr th {\n",
       "        vertical-align: top;\n",
       "    }\n",
       "\n",
       "    .dataframe thead th {\n",
       "        text-align: right;\n",
       "    }\n",
       "</style>\n",
       "<table border=\"1\" class=\"dataframe\">\n",
       "  <thead>\n",
       "    <tr style=\"text-align: right;\">\n",
       "      <th></th>\n",
       "      <th>Area</th>\n",
       "      <th>Perimeter</th>\n",
       "      <th>Compactness</th>\n",
       "      <th>Kernel_Length</th>\n",
       "      <th>Kernel_width</th>\n",
       "      <th>Asymmetry_coeff</th>\n",
       "      <th>Kernel_groove_len</th>\n",
       "      <th>Variety</th>\n",
       "    </tr>\n",
       "  </thead>\n",
       "  <tbody>\n",
       "    <tr>\n",
       "      <th>0</th>\n",
       "      <td>15.26</td>\n",
       "      <td>14.84</td>\n",
       "      <td>0.8710</td>\n",
       "      <td>5.763</td>\n",
       "      <td>3.312</td>\n",
       "      <td>2.221</td>\n",
       "      <td>5.220</td>\n",
       "      <td>1</td>\n",
       "    </tr>\n",
       "    <tr>\n",
       "      <th>1</th>\n",
       "      <td>14.88</td>\n",
       "      <td>14.57</td>\n",
       "      <td>0.8811</td>\n",
       "      <td>5.554</td>\n",
       "      <td>3.333</td>\n",
       "      <td>1.018</td>\n",
       "      <td>4.956</td>\n",
       "      <td>1</td>\n",
       "    </tr>\n",
       "    <tr>\n",
       "      <th>2</th>\n",
       "      <td>14.29</td>\n",
       "      <td>14.09</td>\n",
       "      <td>0.9050</td>\n",
       "      <td>5.291</td>\n",
       "      <td>3.337</td>\n",
       "      <td>2.699</td>\n",
       "      <td>4.825</td>\n",
       "      <td>1</td>\n",
       "    </tr>\n",
       "    <tr>\n",
       "      <th>3</th>\n",
       "      <td>13.84</td>\n",
       "      <td>13.94</td>\n",
       "      <td>0.8955</td>\n",
       "      <td>5.324</td>\n",
       "      <td>3.379</td>\n",
       "      <td>2.259</td>\n",
       "      <td>4.805</td>\n",
       "      <td>1</td>\n",
       "    </tr>\n",
       "    <tr>\n",
       "      <th>4</th>\n",
       "      <td>16.14</td>\n",
       "      <td>14.99</td>\n",
       "      <td>0.9034</td>\n",
       "      <td>5.658</td>\n",
       "      <td>3.562</td>\n",
       "      <td>1.355</td>\n",
       "      <td>5.175</td>\n",
       "      <td>1</td>\n",
       "    </tr>\n",
       "  </tbody>\n",
       "</table>\n",
       "</div>"
      ],
      "text/plain": [
       "    Area  Perimeter  Compactness  Kernel_Length  Kernel_width  \\\n",
       "0  15.26      14.84       0.8710          5.763         3.312   \n",
       "1  14.88      14.57       0.8811          5.554         3.333   \n",
       "2  14.29      14.09       0.9050          5.291         3.337   \n",
       "3  13.84      13.94       0.8955          5.324         3.379   \n",
       "4  16.14      14.99       0.9034          5.658         3.562   \n",
       "\n",
       "   Asymmetry_coeff  Kernel_groove_len  Variety  \n",
       "0            2.221              5.220        1  \n",
       "1            1.018              4.956        1  \n",
       "2            2.699              4.825        1  \n",
       "3            2.259              4.805        1  \n",
       "4            1.355              5.175        1  "
      ]
     },
     "execution_count": 2,
     "metadata": {},
     "output_type": "execute_result"
    }
   ],
   "source": [
    "#Wheat\n",
    "import matplotlib.pyplot as plt\n",
    "import pandas as pd\n",
    "import numpy as np\n",
    "import seaborn as sns\n",
    "import matplotlib.image as mpl\n",
    "import scipy\n",
    "import sklearn\n",
    "import io\n",
    "from sklearn.preprocessing import StandardScaler\n",
    "\n",
    "wheat = pd.read_csv(r'C:\\Users\\PC\\Documents\\R\\wheat.csv')\n",
    "\n",
    "pd.set_option('display.max_rows', 8)\n",
    "\n",
    "#can dro the 'id' col\n",
    "# cancer.drop(['id'], inplace = True, axis = 1)\n",
    "\n",
    "# reanme some cols\n",
    "wheat=wheat.rename(columns={'Kernel Length':'Kernel_Length', \n",
    "                                'Asymmetry coefficient':'Asymmetry_coeff', \n",
    "                            'Kernel Width':'Kernel_width',\n",
    "                            'Kernel groove length':'Kernel_groove_len'})\n",
    "# Assign X and y\n",
    "X = wheat.drop('Variety', axis = 1)\n",
    "y = wheat['Variety']\n",
    "\n",
    "# scale it\n",
    "scaler = StandardScaler() \n",
    "scaler.fit(X) \n",
    "X_scaled = scaler.transform(X)\n",
    "\n",
    "wheat.head()"
   ]
  },
  {
   "cell_type": "code",
   "execution_count": 4,
   "metadata": {},
   "outputs": [
    {
     "name": "stdout",
     "output_type": "stream",
     "text": [
      "Count of data type in dataset\n"
     ]
    },
    {
     "data": {
      "text/plain": [
       "float64    7\n",
       "int64      1\n",
       "dtype: int64"
      ]
     },
     "execution_count": 4,
     "metadata": {},
     "output_type": "execute_result"
    }
   ],
   "source": [
    "print('Count of data type in dataset')\n",
    "wheat.get_dtype_counts()"
   ]
  },
  {
   "cell_type": "code",
   "execution_count": 6,
   "metadata": {},
   "outputs": [
    {
     "data": {
      "text/plain": [
       "(210, 8)"
      ]
     },
     "execution_count": 6,
     "metadata": {},
     "output_type": "execute_result"
    }
   ],
   "source": [
    "wheat.shape"
   ]
  },
  {
   "cell_type": "code",
   "execution_count": 7,
   "metadata": {},
   "outputs": [
    {
     "name": "stdout",
     "output_type": "stream",
     "text": [
      "Check dataset for Null Values\n"
     ]
    },
    {
     "data": {
      "text/plain": [
       "Area                 0.0\n",
       "Perimeter            0.0\n",
       "Compactness          0.0\n",
       "Kernel_Length        0.0\n",
       "Kernel_width         0.0\n",
       "Asymmetry_coeff      0.0\n",
       "Kernel_groove_len    0.0\n",
       "Variety              0.0\n",
       "dtype: float64"
      ]
     },
     "execution_count": 7,
     "metadata": {},
     "output_type": "execute_result"
    }
   ],
   "source": [
    "print('Check dataset for Null Values')\n",
    "wheat.isnull().sum() / wheat.shape[0]"
   ]
  },
  {
   "cell_type": "code",
   "execution_count": 8,
   "metadata": {},
   "outputs": [
    {
     "data": {
      "text/html": [
       "<div>\n",
       "<style scoped>\n",
       "    .dataframe tbody tr th:only-of-type {\n",
       "        vertical-align: middle;\n",
       "    }\n",
       "\n",
       "    .dataframe tbody tr th {\n",
       "        vertical-align: top;\n",
       "    }\n",
       "\n",
       "    .dataframe thead th {\n",
       "        text-align: right;\n",
       "    }\n",
       "</style>\n",
       "<table border=\"1\" class=\"dataframe\">\n",
       "  <thead>\n",
       "    <tr style=\"text-align: right;\">\n",
       "      <th></th>\n",
       "      <th>Area</th>\n",
       "      <th>Perimeter</th>\n",
       "      <th>Compactness</th>\n",
       "      <th>Kernel_Length</th>\n",
       "      <th>Kernel_width</th>\n",
       "      <th>Asymmetry_coeff</th>\n",
       "      <th>Kernel_groove_len</th>\n",
       "      <th>Variety</th>\n",
       "    </tr>\n",
       "  </thead>\n",
       "  <tbody>\n",
       "    <tr>\n",
       "      <th>count</th>\n",
       "      <td>210.000000</td>\n",
       "      <td>210.000000</td>\n",
       "      <td>210.000000</td>\n",
       "      <td>210.000000</td>\n",
       "      <td>210.000000</td>\n",
       "      <td>210.000000</td>\n",
       "      <td>210.000000</td>\n",
       "      <td>210.000000</td>\n",
       "    </tr>\n",
       "    <tr>\n",
       "      <th>mean</th>\n",
       "      <td>14.847524</td>\n",
       "      <td>14.559286</td>\n",
       "      <td>0.870999</td>\n",
       "      <td>5.628533</td>\n",
       "      <td>3.258605</td>\n",
       "      <td>3.700201</td>\n",
       "      <td>5.408071</td>\n",
       "      <td>2.000000</td>\n",
       "    </tr>\n",
       "    <tr>\n",
       "      <th>std</th>\n",
       "      <td>2.909699</td>\n",
       "      <td>1.305959</td>\n",
       "      <td>0.023629</td>\n",
       "      <td>0.443063</td>\n",
       "      <td>0.377714</td>\n",
       "      <td>1.503557</td>\n",
       "      <td>0.491480</td>\n",
       "      <td>0.818448</td>\n",
       "    </tr>\n",
       "    <tr>\n",
       "      <th>min</th>\n",
       "      <td>10.590000</td>\n",
       "      <td>12.410000</td>\n",
       "      <td>0.808100</td>\n",
       "      <td>4.899000</td>\n",
       "      <td>2.630000</td>\n",
       "      <td>0.765100</td>\n",
       "      <td>4.519000</td>\n",
       "      <td>1.000000</td>\n",
       "    </tr>\n",
       "    <tr>\n",
       "      <th>25%</th>\n",
       "      <td>12.270000</td>\n",
       "      <td>13.450000</td>\n",
       "      <td>0.856900</td>\n",
       "      <td>5.262250</td>\n",
       "      <td>2.944000</td>\n",
       "      <td>2.561500</td>\n",
       "      <td>5.045000</td>\n",
       "      <td>1.000000</td>\n",
       "    </tr>\n",
       "    <tr>\n",
       "      <th>50%</th>\n",
       "      <td>14.355000</td>\n",
       "      <td>14.320000</td>\n",
       "      <td>0.873450</td>\n",
       "      <td>5.523500</td>\n",
       "      <td>3.237000</td>\n",
       "      <td>3.599000</td>\n",
       "      <td>5.223000</td>\n",
       "      <td>2.000000</td>\n",
       "    </tr>\n",
       "    <tr>\n",
       "      <th>75%</th>\n",
       "      <td>17.305000</td>\n",
       "      <td>15.715000</td>\n",
       "      <td>0.887775</td>\n",
       "      <td>5.979750</td>\n",
       "      <td>3.561750</td>\n",
       "      <td>4.768750</td>\n",
       "      <td>5.877000</td>\n",
       "      <td>3.000000</td>\n",
       "    </tr>\n",
       "    <tr>\n",
       "      <th>max</th>\n",
       "      <td>21.180000</td>\n",
       "      <td>17.250000</td>\n",
       "      <td>0.918300</td>\n",
       "      <td>6.675000</td>\n",
       "      <td>4.033000</td>\n",
       "      <td>8.456000</td>\n",
       "      <td>6.550000</td>\n",
       "      <td>3.000000</td>\n",
       "    </tr>\n",
       "  </tbody>\n",
       "</table>\n",
       "</div>"
      ],
      "text/plain": [
       "             Area   Perimeter  Compactness  Kernel_Length  Kernel_width  \\\n",
       "count  210.000000  210.000000   210.000000     210.000000    210.000000   \n",
       "mean    14.847524   14.559286     0.870999       5.628533      3.258605   \n",
       "std      2.909699    1.305959     0.023629       0.443063      0.377714   \n",
       "min     10.590000   12.410000     0.808100       4.899000      2.630000   \n",
       "25%     12.270000   13.450000     0.856900       5.262250      2.944000   \n",
       "50%     14.355000   14.320000     0.873450       5.523500      3.237000   \n",
       "75%     17.305000   15.715000     0.887775       5.979750      3.561750   \n",
       "max     21.180000   17.250000     0.918300       6.675000      4.033000   \n",
       "\n",
       "       Asymmetry_coeff  Kernel_groove_len     Variety  \n",
       "count       210.000000         210.000000  210.000000  \n",
       "mean          3.700201           5.408071    2.000000  \n",
       "std           1.503557           0.491480    0.818448  \n",
       "min           0.765100           4.519000    1.000000  \n",
       "25%           2.561500           5.045000    1.000000  \n",
       "50%           3.599000           5.223000    2.000000  \n",
       "75%           4.768750           5.877000    3.000000  \n",
       "max           8.456000           6.550000    3.000000  "
      ]
     },
     "execution_count": 8,
     "metadata": {},
     "output_type": "execute_result"
    }
   ],
   "source": [
    "wheat.describe()"
   ]
  },
  {
   "cell_type": "code",
   "execution_count": 9,
   "metadata": {},
   "outputs": [
    {
     "data": {
      "text/plain": [
       "3    70\n",
       "2    70\n",
       "1    70\n",
       "Name: Variety, dtype: int64"
      ]
     },
     "execution_count": 9,
     "metadata": {},
     "output_type": "execute_result"
    }
   ],
   "source": [
    "wheat[\"Variety\"].value_counts()"
   ]
  },
  {
   "cell_type": "code",
   "execution_count": 11,
   "metadata": {},
   "outputs": [
    {
     "name": "stdout",
     "output_type": "stream",
     "text": [
      "--------------- Split-out dataset [Done]\n"
     ]
    }
   ],
   "source": [
    "# Seperate the y from the x columns\n",
    "X = wheat.drop('Variety',axis=1)\n",
    "Y = wheat['Variety']\n",
    "\n",
    "# for roc curve\n",
    "#Y =  = label_binarize(y, classes=[0, 1, 2])\n",
    "#n_classes = y.shape[1] \n",
    "\n",
    "from sklearn.model_selection import train_test_split\n",
    "X_train, X_validation, y_train, y_validation = train_test_split(X, Y, test_size=0.30, random_state=1)\n",
    "print('--------------- Split-out dataset [Done]')"
   ]
  },
  {
   "cell_type": "code",
   "execution_count": 12,
   "metadata": {},
   "outputs": [
    {
     "name": "stdout",
     "output_type": "stream",
     "text": [
      "Original dataset shape Counter({1: 70, 2: 70, 3: 70})\n"
     ]
    }
   ],
   "source": [
    "from collections import Counter\n",
    "print('Original dataset shape {}'.format(Counter(Y)))"
   ]
  },
  {
   "cell_type": "code",
   "execution_count": 13,
   "metadata": {},
   "outputs": [
    {
     "name": "stdout",
     "output_type": "stream",
     "text": [
      "Applying dimensionality Reduction using Principal Component Analysis [PCA]\n",
      "Best parameter (CV score=0.884):\n",
      "{'m__criterion': 'gini', 'm__max_depth': None, 'm__max_leaf_nodes': None, 'm__min_samples_leaf': 1, 'm__min_samples_split': 2, 'pca__n_components': 5}\n"
     ]
    },
    {
     "data": {
      "image/png": "[encoded data removed]",
      "text/plain": [
       "<Figure size 432x432 with 2 Axes>"
      ]
     },
     "metadata": {
      "needs_background": "light"
     },
     "output_type": "display_data"
    }
   ],
   "source": [
    "print('Applying dimensionality Reduction using Principal Component Analysis [PCA]')\n",
    "import matplotlib.pyplot as plt\n",
    "from sklearn.decomposition import PCA\n",
    "from sklearn.pipeline import Pipeline\n",
    "from sklearn.model_selection import GridSearchCV\n",
    "from sklearn.preprocessing import StandardScaler\n",
    "from sklearn.tree import DecisionTreeClassifier\n",
    "import warnings\n",
    "warnings.filterwarnings('ignore')\n",
    "#Define Pipeline\n",
    "pca = PCA()\n",
    "#Define normalization using standard scaler\n",
    "scaler = StandardScaler()\n",
    "#Define model\n",
    "model1 = DecisionTreeClassifier(random_state=0)\n",
    "#resample = SVMSMOTE(random_state = 42)\n",
    "pipe_dt = Pipeline([('s', scaler), ('pca', pca),('m', model1)])\n",
    "\n",
    "#pipe_dt.fit(X_train, Y_train)\n",
    "\n",
    "# set parameters of pipelines using ‘__’ separated parameter names:\n",
    "\n",
    "param_grid = {\"pca__n_components\":[5, 10, 15, 20, 30],\n",
    "              \"m__criterion\": [\"gini\", \"entropy\"],\n",
    "              \"m__min_samples_split\": [2, 10, 20],\n",
    "              \"m__max_depth\": [None, 2, 5, 10],\n",
    "              \"m__min_samples_leaf\": [1, 5, 10],\n",
    "              \"m__max_leaf_nodes\": [None, 5, 10, 20],\n",
    "              }\n",
    "\n",
    "search = GridSearchCV(pipe_dt, param_grid, n_jobs=-1)\n",
    "\n",
    "#fit the Gridsearch\n",
    "clf_dt = search.fit(X_train, y_train)\n",
    "#Get Best Parameters\n",
    "print(\"Best parameter (CV score=%0.3f):\" % search.best_score_)\n",
    "print(search.best_params_)\n",
    "\n",
    "# Plot the PCA spectrum\n",
    "pca.fit(X_train)\n",
    "\n",
    "#plot\n",
    "fig, (ax0, ax1) = plt.subplots(nrows=2, sharex=True, figsize=(6, 6))\n",
    "ax0.plot(np.arange(1, pca.n_components_ + 1),\n",
    "         pca.explained_variance_ratio_, '+', linewidth=2)\n",
    "ax0.set_ylabel('PCA explained variance ratio')\n",
    "\n",
    "ax0.axvline(search.best_estimator_.named_steps['pca'].n_components,\n",
    "            linestyle=':', label='n_components chosen')\n",
    "ax0.legend(prop=dict(size=12))\n",
    "\n",
    "# For each number of components, find the best classifier results\n",
    "results = pd.DataFrame(search.cv_results_)\n",
    "components_col = 'param_pca__n_components'\n",
    "best_clfs = results.groupby(components_col).apply(\n",
    "    lambda g: g.nlargest(1, 'mean_test_score'))\n",
    "\n",
    "best_clfs.plot(x=components_col, y='mean_test_score', yerr='std_test_score',\n",
    "               legend=False, ax=ax1)\n",
    "ax1.set_ylabel('Classification accuracy (val)')\n",
    "ax1.set_xlabel('n_components')\n",
    "\n",
    "plt.xlim(-1, 10)\n",
    "\n",
    "plt.tight_layout()\n",
    "plt.show()"
   ]
  },
  {
   "cell_type": "code",
   "execution_count": 14,
   "metadata": {},
   "outputs": [
    {
     "name": "stdout",
     "output_type": "stream",
     "text": [
      "done in 0.001s\n"
     ]
    }
   ],
   "source": [
    "#----------Test Best Parameters---------\n",
    "from sklearn.model_selection import cross_val_score\n",
    "from sklearn.model_selection import RepeatedStratifiedKFold\n",
    "from sklearn.metrics import accuracy_score\n",
    "from sklearn.metrics import classification_report, confusion_matrix\n",
    "from time import time\n",
    "\n",
    "t0 = time()\n",
    "clf_dt =clf_dt.best_estimator_\n",
    "y_pred_dt = clf_dt.predict(X_validation)\n",
    "print(\"done in %0.3fs\" % (time() - t0))\n",
    "cv = RepeatedStratifiedKFold(n_splits=10, n_repeats=3, random_state=1)\n",
    "scores_cv_dt = cross_val_score(clf_dt, X_train, y_train, cv=cv)"
   ]
  },
  {
   "cell_type": "code",
   "execution_count": 15,
   "metadata": {},
   "outputs": [
    {
     "name": "stdout",
     "output_type": "stream",
     "text": [
      "Applying dimensionality Reduction using Principal Component Analysis [PCA]\n",
      "Best parameter (CV score=0.945):\n",
      "{'m__C': 100, 'm__kernel': 'linear'}\n"
     ]
    }
   ],
   "source": [
    "print('Applying dimensionality Reduction using Principal Component Analysis [PCA]')\n",
    "from sklearn.svm import SVC\n",
    "from imblearn.over_sampling import SVMSMOTE\n",
    "from imblearn.pipeline import Pipeline\n",
    "\n",
    "#Define Pipeline\n",
    "pca = PCA()\n",
    "#Define normalization using standard scaler\n",
    "scaler = StandardScaler()\n",
    "#Define model\n",
    "model4 = SVC(class_weight = 'balanced', probability=True)\n",
    "#resample \n",
    "resample = SVMSMOTE(random_state=0)\n",
    "pipe_svc = Pipeline(steps=[('s', scaler), ('pca', pca), ('r', resample), ('m', model4)])\n",
    "\n",
    "\n",
    "# set parameters of pipelines using ‘__’ separated parameter names:\n",
    "param_grid = [{'m__kernel': ['rbf'], 'm__gamma': [1e-3, 1e-4],\n",
    "              'm__C': [1, 10,100,1000]},\n",
    "              {'m__kernel': ['linear'], 'm__C': [1, 10,100,1000]}]\n",
    "\n",
    "search = GridSearchCV(pipe_svc, param_grid, n_jobs=-1)\n",
    "\n",
    "#fit the Gridsearch\n",
    "clf_svc = search.fit(X_train, y_train)\n",
    "#Get Best Parameters\n",
    "print(\"Best parameter (CV score=%0.3f):\" % search.best_score_)\n",
    "print(search.best_params_)"
   ]
  },
  {
   "cell_type": "code",
   "execution_count": 16,
   "metadata": {},
   "outputs": [
    {
     "name": "stdout",
     "output_type": "stream",
     "text": [
      "Done in 0.002s\n"
     ]
    }
   ],
   "source": [
    "#----------Test Best Parameters---------\n",
    "t0 = time()\n",
    "clf_svc =clf_svc.best_estimator_\n",
    "y_pred_svc = clf_svc.predict(X_validation)\n",
    "print(\"Done in %0.3fs\" % (time() - t0))\n",
    "cv = RepeatedStratifiedKFold(n_splits=10, n_repeats=3, random_state=1)\n",
    "scores_cv_svc = cross_val_score(clf_svc, X_train, y_train, cv=cv)"
   ]
  },
  {
   "cell_type": "code",
   "execution_count": 17,
   "metadata": {},
   "outputs": [
    {
     "name": "stdout",
     "output_type": "stream",
     "text": [
      "----------------------> [Support Vector performance summary]\n",
      "Accuracy: 0.952\n",
      "mean: 0.941 (std: 0.049)\n",
      "\n",
      "[[21  0  3]\n",
      " [ 0 18  0]\n",
      " [ 0  0 21]]\n",
      "              precision    recall  f1-score   support\n",
      "\n",
      "           1       1.00      0.88      0.93        24\n",
      "           2       1.00      1.00      1.00        18\n",
      "           3       0.88      1.00      0.93        21\n",
      "\n",
      "    accuracy                           0.95        63\n",
      "   macro avg       0.96      0.96      0.96        63\n",
      "weighted avg       0.96      0.95      0.95        63\n",
      "\n",
      "Misclassified examples: 3\n",
      "Misclassification/Error rate: 0.023 %\n",
      "Test set Accuracy: 0.952\n",
      "Training set Accuracy: 0.980\n",
      "--------------- Support Vector Classifier --Parameters specified-- : classifier.fit [Done]\n"
     ]
    }
   ],
   "source": [
    "#---------Classification report--------\n",
    "print (\"----------------------> [Support Vector performance summary]\")\n",
    "print(\"Accuracy: {:.3f}\".format(accuracy_score(y_pred_svc, y_validation)))\n",
    "print(\"mean: {:.3f} (std: {:.3f})\".format(scores_cv_svc.mean(),\n",
    "                                          scores_cv_svc.std()),\n",
    "                                          end=\"\\n\\n\" )\n",
    "print(confusion_matrix(y_validation,y_pred_svc))\n",
    "print(classification_report(y_validation,y_pred_svc))\n",
    "print('Misclassified examples: %d' % (y_validation != y_pred_svc).sum())\n",
    "print('Misclassification/Error rate: %.3f' % ((y_validation != y_pred_svc).sum()/y_pred_svc.sum()) + ' %')\n",
    "print(\"Test set Accuracy: {:.3f}\".format(clf_svc.score(X_validation, y_validation)))\n",
    "print(\"Training set Accuracy: {:.3f}\".format(clf_svc.score(X_train, y_train)))\n",
    "print('--------------- Support Vector Classifier --Parameters specified-- : classifier.fit [Done]')"
   ]
  },
  {
   "cell_type": "code",
   "execution_count": 18,
   "metadata": {},
   "outputs": [
    {
     "data": {
      "image/png": "[encoded data removed]",
      "text/plain": [
       "<Figure size 288x216 with 2 Axes>"
      ]
     },
     "metadata": {
      "needs_background": "light"
     },
     "output_type": "display_data"
    }
   ],
   "source": [
    "#plot of confusion matrix\n",
    "plt.figure(figsize=(4,3))\n",
    "cm =confusion_matrix(y_validation, y_pred_svc)\n",
    "sns.heatmap(cm,annot=True, cmap=\"Blues\", fmt=\"d\", \n",
    "              xticklabels = ['Kama', 'Rosa', 'Canadian'], \n",
    "            yticklabels = ['Kama', 'Rosa','Canadian'])\n",
    "plt.ylabel('True')\n",
    "plt.xlabel('Predicted')\n",
    "plt.title(\"Confusion Matrix for Support Vectore Using PCA\");"
   ]
  },
  {
   "cell_type": "code",
   "execution_count": 21,
   "metadata": {},
   "outputs": [
    {
     "name": "stdout",
     "output_type": "stream",
     "text": [
      "\n",
      "PC 1 with:\n",
      " [ 0.44696773  0.44423254  0.25578801  0.42830414  0.43526808 -0.09229136\n",
      "  0.39500552]\n",
      "\n",
      "PC 2 with:\n",
      " [ 0.01958073  0.07512021 -0.56101306  0.18598592 -0.11483869  0.71419767\n",
      "  0.34839761]\n"
     ]
    },
    {
     "data": {
      "image/png": "[encoded data removed]",
      "text/plain": [
       "<Figure size 432x288 with 1 Axes>"
      ]
     },
     "metadata": {
      "needs_background": "light"
     },
     "output_type": "display_data"
    }
   ],
   "source": [
    "FIG_SIZE = (10, 7)\n",
    "# Fit to data and predict using pipelined scaling, GNB and PCA.\n",
    "pipe_svc.fit(X_train, y_train)\n",
    "pred_test_std = pipe_svc.predict(X_validation)\n",
    "\n",
    "# Show prediction accuracies in scaled and unscaled data.\n",
    "#print('\\nPrediction accuracy for the standardized test dataset with PCA -SVC')\n",
    "#print('{:.2%}\\n'.format(metrics.accuracy_score(y_validation, pred_test_std)))\n",
    "\n",
    "# Extract PCA from pipeline\n",
    "pca_std = pipe_svc.named_steps['pca']\n",
    "\n",
    "# Show first principal components\n",
    "print('\\nPC 1 with:\\n', pca_std.components_[0])\n",
    "print('\\nPC 2 with:\\n', pca_std.components_[1])\n",
    "# Use PCA without and with scale on X_train data for visualization.\n",
    "scaler = pipe_svc.named_steps['s']\n",
    "X_train_std_transformed = pca_std.transform(scaler.transform(X_train))\n",
    "\n",
    "# visualize standardized vs. untouched dataset with PCA performed\n",
    "fig, ax = plt.subplots()\n",
    "\n",
    "for l, c, m in zip(range(1, 4), ('blue', 'red', 'green'), ('^', 's', 'o')):\n",
    "    ax.scatter(X_train_std_transformed[y_train == l, 0],\n",
    "                X_train_std_transformed[y_train == l, 1],\n",
    "                color=c,\n",
    "                label='class %s' % l,\n",
    "                alpha=0.5,\n",
    "                marker=m\n",
    "                )\n",
    "\n",
    "ax.set_title('Standardized training dataset after PCA')\n",
    "ax.set_xlabel('1st principal component')\n",
    "ax.set_ylabel('2nd principal component')\n",
    "ax.legend(loc='upper right')\n",
    "ax.grid()\n",
    "\n",
    "plt.tight_layout()\n",
    "\n",
    "plt.show()"
   ]
  }
 ],
 "metadata": {
  "kernelspec": {
   "display_name": "Python 3",
   "language": "python",
   "name": "python3"
  },
  "language_info": {
   "codemirror_mode": {
    "name": "ipython",
    "version": 3
   },
   "file_extension": ".py",
   "mimetype": "text/x-python",
   "name": "python",
   "nbconvert_exporter": "python",
   "pygments_lexer": "ipython3",
   "version": "3.7.6"
  }
 },
 "nbformat": 4,
 "nbformat_minor": 4
}
