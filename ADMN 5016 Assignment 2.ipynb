{
 "cells": [
  {
   "cell_type": "code",
   "execution_count": 125,
   "metadata": {},
   "outputs": [
    {
     "name": "stdout",
     "output_type": "stream",
     "text": [
      "The scikit-learn version is 0.22.1.\n"
     ]
    }
   ],
   "source": [
    "import scipy\n",
    "import numpy as np\n",
    "import matplotlib as plt\n",
    "import sklearn\n",
    "from pandas import read_csv\n",
    "import matplotlib.pyplot as pyplt\n",
    "from pandas.plotting import scatter_matrix\n",
    "from sklearn.model_selection import train_test_split\n",
    "from sklearn.neighbors import KNeighborsClassifier\n",
    "from sklearn.metrics import classification_report, confusion_matrix\n",
    "from sklearn.tree import DecisionTreeClassifier\n",
    "from sklearn.naive_bayes import GaussianNB\n",
    "print('The scikit-learn version is {}.'.format(sklearn.__version__))\n",
    "import os\n",
    "import graphviz\n",
    "from sklearn.neural_network import MLPClassifier\n",
    "from sklearn import metrics\n",
    "from pandas import DataFrame\n",
    "import pandas as pd\n",
    "from sklearn.datasets.samples_generator import make_blobs\n",
    "from sklearn.cluster import KMeans\n",
    "from sklearn.decomposition import PCA\n",
    "from sklearn.preprocessing import StandardScaler\n",
    "from sklearn.metrics import confusion_matrix, accuracy_score\n",
    "from sklearn.svm import SVC\n",
    "from sklearn import preprocessing\n",
    "from sklearn import utils\n",
    "import seaborn as sns"
   ]
  },
  {
   "cell_type": "code",
   "execution_count": 126,
   "metadata": {},
   "outputs": [
    {
     "name": "stdout",
     "output_type": "stream",
     "text": [
      "<class 'pandas.core.frame.DataFrame'>\n",
      "RangeIndex: 116 entries, 0 to 115\n",
      "Data columns (total 10 columns):\n",
      " #   Column          Non-Null Count  Dtype  \n",
      "---  ------          --------------  -----  \n",
      " 0   Age             116 non-null    int64  \n",
      " 1   BMI             116 non-null    float64\n",
      " 2   Glucose         116 non-null    int64  \n",
      " 3   Insulin         116 non-null    float64\n",
      " 4   HOMA            116 non-null    float64\n",
      " 5   Leptin          116 non-null    float64\n",
      " 6   Adiponectin     116 non-null    float64\n",
      " 7   Resistin        116 non-null    float64\n",
      " 8   MCP.1           116 non-null    float64\n",
      " 9   Classification  116 non-null    int64  \n",
      "dtypes: float64(7), int64(3)\n",
      "memory usage: 9.2 KB\n"
     ]
    }
   ],
   "source": [
    "dia = read_csv(r'X:\\SLC\\Term 2\\ADMN 5016\\Evan_Duffy\\Assignment 2\\diabetes.csv')\n",
    "dia.info()"
   ]
  },
  {
   "cell_type": "markdown",
   "metadata": {},
   "source": [
    "Our dataset has 0 nulls and all columns are able to be manipulated as they are all float and int types."
   ]
  },
  {
   "cell_type": "code",
   "execution_count": 127,
   "metadata": {},
   "outputs": [
    {
     "data": {
      "text/html": [
       "<div>\n",
       "<style scoped>\n",
       "    .dataframe tbody tr th:only-of-type {\n",
       "        vertical-align: middle;\n",
       "    }\n",
       "\n",
       "    .dataframe tbody tr th {\n",
       "        vertical-align: top;\n",
       "    }\n",
       "\n",
       "    .dataframe thead th {\n",
       "        text-align: right;\n",
       "    }\n",
       "</style>\n",
       "<table border=\"1\" class=\"dataframe\">\n",
       "  <thead>\n",
       "    <tr style=\"text-align: right;\">\n",
       "      <th></th>\n",
       "      <th>Age</th>\n",
       "      <th>BMI</th>\n",
       "      <th>Glucose</th>\n",
       "      <th>Insulin</th>\n",
       "      <th>HOMA</th>\n",
       "      <th>Leptin</th>\n",
       "      <th>Adiponectin</th>\n",
       "      <th>Resistin</th>\n",
       "      <th>MCP.1</th>\n",
       "      <th>Classification</th>\n",
       "    </tr>\n",
       "  </thead>\n",
       "  <tbody>\n",
       "    <tr>\n",
       "      <th>0</th>\n",
       "      <td>48</td>\n",
       "      <td>23.500000</td>\n",
       "      <td>70</td>\n",
       "      <td>2.707</td>\n",
       "      <td>0.467409</td>\n",
       "      <td>8.8071</td>\n",
       "      <td>9.702400</td>\n",
       "      <td>7.99585</td>\n",
       "      <td>417.114</td>\n",
       "      <td>1</td>\n",
       "    </tr>\n",
       "    <tr>\n",
       "      <th>1</th>\n",
       "      <td>83</td>\n",
       "      <td>20.690495</td>\n",
       "      <td>92</td>\n",
       "      <td>3.115</td>\n",
       "      <td>0.706897</td>\n",
       "      <td>8.8438</td>\n",
       "      <td>5.429285</td>\n",
       "      <td>4.06405</td>\n",
       "      <td>468.786</td>\n",
       "      <td>1</td>\n",
       "    </tr>\n",
       "    <tr>\n",
       "      <th>2</th>\n",
       "      <td>82</td>\n",
       "      <td>23.124670</td>\n",
       "      <td>91</td>\n",
       "      <td>4.498</td>\n",
       "      <td>1.009651</td>\n",
       "      <td>17.9393</td>\n",
       "      <td>22.432040</td>\n",
       "      <td>9.27715</td>\n",
       "      <td>554.697</td>\n",
       "      <td>1</td>\n",
       "    </tr>\n",
       "    <tr>\n",
       "      <th>3</th>\n",
       "      <td>68</td>\n",
       "      <td>21.367521</td>\n",
       "      <td>77</td>\n",
       "      <td>3.226</td>\n",
       "      <td>0.612725</td>\n",
       "      <td>9.8827</td>\n",
       "      <td>7.169560</td>\n",
       "      <td>12.76600</td>\n",
       "      <td>928.220</td>\n",
       "      <td>1</td>\n",
       "    </tr>\n",
       "    <tr>\n",
       "      <th>4</th>\n",
       "      <td>86</td>\n",
       "      <td>21.111111</td>\n",
       "      <td>92</td>\n",
       "      <td>3.549</td>\n",
       "      <td>0.805386</td>\n",
       "      <td>6.6994</td>\n",
       "      <td>4.819240</td>\n",
       "      <td>10.57635</td>\n",
       "      <td>773.920</td>\n",
       "      <td>1</td>\n",
       "    </tr>\n",
       "    <tr>\n",
       "      <th>5</th>\n",
       "      <td>49</td>\n",
       "      <td>22.854458</td>\n",
       "      <td>92</td>\n",
       "      <td>3.226</td>\n",
       "      <td>0.732087</td>\n",
       "      <td>6.8317</td>\n",
       "      <td>13.679750</td>\n",
       "      <td>10.31760</td>\n",
       "      <td>530.410</td>\n",
       "      <td>1</td>\n",
       "    </tr>\n",
       "    <tr>\n",
       "      <th>6</th>\n",
       "      <td>89</td>\n",
       "      <td>22.700000</td>\n",
       "      <td>77</td>\n",
       "      <td>4.690</td>\n",
       "      <td>0.890787</td>\n",
       "      <td>6.9640</td>\n",
       "      <td>5.589865</td>\n",
       "      <td>12.93610</td>\n",
       "      <td>1256.083</td>\n",
       "      <td>1</td>\n",
       "    </tr>\n",
       "    <tr>\n",
       "      <th>7</th>\n",
       "      <td>76</td>\n",
       "      <td>23.800000</td>\n",
       "      <td>118</td>\n",
       "      <td>6.470</td>\n",
       "      <td>1.883201</td>\n",
       "      <td>4.3110</td>\n",
       "      <td>13.251320</td>\n",
       "      <td>5.10420</td>\n",
       "      <td>280.694</td>\n",
       "      <td>1</td>\n",
       "    </tr>\n",
       "    <tr>\n",
       "      <th>8</th>\n",
       "      <td>73</td>\n",
       "      <td>22.000000</td>\n",
       "      <td>97</td>\n",
       "      <td>3.350</td>\n",
       "      <td>0.801543</td>\n",
       "      <td>4.4700</td>\n",
       "      <td>10.358725</td>\n",
       "      <td>6.28445</td>\n",
       "      <td>136.855</td>\n",
       "      <td>1</td>\n",
       "    </tr>\n",
       "    <tr>\n",
       "      <th>9</th>\n",
       "      <td>75</td>\n",
       "      <td>23.000000</td>\n",
       "      <td>83</td>\n",
       "      <td>4.952</td>\n",
       "      <td>1.013839</td>\n",
       "      <td>17.1270</td>\n",
       "      <td>11.578990</td>\n",
       "      <td>7.09130</td>\n",
       "      <td>318.302</td>\n",
       "      <td>1</td>\n",
       "    </tr>\n",
       "  </tbody>\n",
       "</table>\n",
       "</div>"
      ],
      "text/plain": [
       "   Age        BMI  Glucose  Insulin      HOMA   Leptin  Adiponectin  Resistin  \\\n",
       "0   48  23.500000       70    2.707  0.467409   8.8071     9.702400   7.99585   \n",
       "1   83  20.690495       92    3.115  0.706897   8.8438     5.429285   4.06405   \n",
       "2   82  23.124670       91    4.498  1.009651  17.9393    22.432040   9.27715   \n",
       "3   68  21.367521       77    3.226  0.612725   9.8827     7.169560  12.76600   \n",
       "4   86  21.111111       92    3.549  0.805386   6.6994     4.819240  10.57635   \n",
       "5   49  22.854458       92    3.226  0.732087   6.8317    13.679750  10.31760   \n",
       "6   89  22.700000       77    4.690  0.890787   6.9640     5.589865  12.93610   \n",
       "7   76  23.800000      118    6.470  1.883201   4.3110    13.251320   5.10420   \n",
       "8   73  22.000000       97    3.350  0.801543   4.4700    10.358725   6.28445   \n",
       "9   75  23.000000       83    4.952  1.013839  17.1270    11.578990   7.09130   \n",
       "\n",
       "      MCP.1  Classification  \n",
       "0   417.114               1  \n",
       "1   468.786               1  \n",
       "2   554.697               1  \n",
       "3   928.220               1  \n",
       "4   773.920               1  \n",
       "5   530.410               1  \n",
       "6  1256.083               1  \n",
       "7   280.694               1  \n",
       "8   136.855               1  \n",
       "9   318.302               1  "
      ]
     },
     "execution_count": 127,
     "metadata": {},
     "output_type": "execute_result"
    }
   ],
   "source": [
    "dia.head(10)"
   ]
  },
  {
   "cell_type": "code",
   "execution_count": 128,
   "metadata": {},
   "outputs": [
    {
     "data": {
      "text/plain": [
       "2    64\n",
       "1    52\n",
       "Name: Classification, dtype: int64"
      ]
     },
     "execution_count": 128,
     "metadata": {},
     "output_type": "execute_result"
    }
   ],
   "source": [
    "dia[\"Classification\"].value_counts()"
   ]
  },
  {
   "cell_type": "markdown",
   "metadata": {},
   "source": [
    "Evenly balanced, so overclassification is not needed."
   ]
  },
  {
   "cell_type": "code",
   "execution_count": 129,
   "metadata": {},
   "outputs": [],
   "source": [
    "clustering_kmeans = KMeans(n_clusters=2, precompute_distances=\"auto\", n_jobs=-1)\n",
    "dia['clusters'] = clustering_kmeans.fit_predict(dia)"
   ]
  },
  {
   "cell_type": "markdown",
   "metadata": {},
   "source": [
    "Creating our clusters to run K Means."
   ]
  },
  {
   "cell_type": "markdown",
   "metadata": {},
   "source": [
    "## Making sure the clustering worked"
   ]
  },
  {
   "cell_type": "code",
   "execution_count": 130,
   "metadata": {},
   "outputs": [
    {
     "name": "stdout",
     "output_type": "stream",
     "text": [
      "<class 'pandas.core.frame.DataFrame'>\n",
      "RangeIndex: 116 entries, 0 to 115\n",
      "Data columns (total 11 columns):\n",
      " #   Column          Non-Null Count  Dtype  \n",
      "---  ------          --------------  -----  \n",
      " 0   Age             116 non-null    int64  \n",
      " 1   BMI             116 non-null    float64\n",
      " 2   Glucose         116 non-null    int64  \n",
      " 3   Insulin         116 non-null    float64\n",
      " 4   HOMA            116 non-null    float64\n",
      " 5   Leptin          116 non-null    float64\n",
      " 6   Adiponectin     116 non-null    float64\n",
      " 7   Resistin        116 non-null    float64\n",
      " 8   MCP.1           116 non-null    float64\n",
      " 9   Classification  116 non-null    int64  \n",
      " 10  clusters        116 non-null    int32  \n",
      "dtypes: float64(7), int32(1), int64(3)\n",
      "memory usage: 9.6 KB\n"
     ]
    }
   ],
   "source": [
    "dia.info()"
   ]
  },
  {
   "cell_type": "code",
   "execution_count": 131,
   "metadata": {},
   "outputs": [
    {
     "data": {
      "image/png": "[encoded data removed]",
      "text/plain": [
       "<Figure size 432x288 with 1 Axes>"
      ]
     },
     "metadata": {
      "needs_background": "light"
     },
     "output_type": "display_data"
    }
   ],
   "source": [
    "sns.scatterplot(x=dia[\"Classification\"], y=dia[\"BMI\"],hue=dia['clusters'], data=dia)\n",
    "pyplt.title('K-means Clustering')\n",
    "pyplt.show()"
   ]
  },
  {
   "cell_type": "markdown",
   "metadata": {},
   "source": [
    "It is not feasible to represent more than one column at a time due to the nature of 2 dimensional plots. We need to reduce our features."
   ]
  },
  {
   "cell_type": "markdown",
   "metadata": {},
   "source": [
    "## Run PCA\n",
    "Done to reduce our graph so that we can see the effects of Kmeans clustering on a 2D plot"
   ]
  },
  {
   "cell_type": "code",
   "execution_count": 132,
   "metadata": {},
   "outputs": [
    {
     "name": "stdout",
     "output_type": "stream",
     "text": [
      "<class 'pandas.core.frame.DataFrame'>\n",
      "RangeIndex: 116 entries, 0 to 115\n",
      "Data columns (total 2 columns):\n",
      " #   Column  Non-Null Count  Dtype  \n",
      "---  ------  --------------  -----  \n",
      " 0   pca1    116 non-null    float64\n",
      " 1   pca2    116 non-null    float64\n",
      "dtypes: float64(2)\n",
      "memory usage: 1.9 KB\n"
     ]
    }
   ],
   "source": [
    "pca_num_components = 2\n",
    "diabetes = PCA(n_components=pca_num_components).fit_transform(dia)\n",
    "finalDiabetes = pd.DataFrame(diabetes,columns=['pca1','pca2'])\n",
    "finalDiabetes.info()"
   ]
  },
  {
   "cell_type": "code",
   "execution_count": 133,
   "metadata": {},
   "outputs": [
    {
     "data": {
      "text/html": [
       "<div>\n",
       "<style scoped>\n",
       "    .dataframe tbody tr th:only-of-type {\n",
       "        vertical-align: middle;\n",
       "    }\n",
       "\n",
       "    .dataframe tbody tr th {\n",
       "        vertical-align: top;\n",
       "    }\n",
       "\n",
       "    .dataframe thead th {\n",
       "        text-align: right;\n",
       "    }\n",
       "</style>\n",
       "<table border=\"1\" class=\"dataframe\">\n",
       "  <thead>\n",
       "    <tr style=\"text-align: right;\">\n",
       "      <th></th>\n",
       "      <th>pca1</th>\n",
       "      <th>pca2</th>\n",
       "    </tr>\n",
       "  </thead>\n",
       "  <tbody>\n",
       "    <tr>\n",
       "      <th>0</th>\n",
       "      <td>-118.147008</td>\n",
       "      <td>-33.747776</td>\n",
       "    </tr>\n",
       "    <tr>\n",
       "      <th>1</th>\n",
       "      <td>-66.126305</td>\n",
       "      <td>-10.358581</td>\n",
       "    </tr>\n",
       "    <tr>\n",
       "      <th>2</th>\n",
       "      <td>19.767869</td>\n",
       "      <td>-7.549762</td>\n",
       "    </tr>\n",
       "    <tr>\n",
       "      <th>3</th>\n",
       "      <td>393.027125</td>\n",
       "      <td>-31.559846</td>\n",
       "    </tr>\n",
       "    <tr>\n",
       "      <th>4</th>\n",
       "      <td>239.019151</td>\n",
       "      <td>-15.047951</td>\n",
       "    </tr>\n",
       "  </tbody>\n",
       "</table>\n",
       "</div>"
      ],
      "text/plain": [
       "         pca1       pca2\n",
       "0 -118.147008 -33.747776\n",
       "1  -66.126305 -10.358581\n",
       "2   19.767869  -7.549762\n",
       "3  393.027125 -31.559846\n",
       "4  239.019151 -15.047951"
      ]
     },
     "execution_count": 133,
     "metadata": {},
     "output_type": "execute_result"
    }
   ],
   "source": [
    "finalDiabetes.head()"
   ]
  },
  {
   "cell_type": "code",
   "execution_count": 134,
   "metadata": {},
   "outputs": [
    {
     "data": {
      "image/png": "[encoded data removed]",
      "text/plain": [
       "<Figure size 432x288 with 1 Axes>"
      ]
     },
     "metadata": {
      "needs_background": "light"
     },
     "output_type": "display_data"
    }
   ],
   "source": [
    "sns.scatterplot(x=\"pca1\", y=\"pca2\",hue=dia['clusters'], data=finalDiabetes)\n",
    "pyplt.title('K-means Clustering with 2 dimensions')\n",
    "pyplt.show()"
   ]
  },
  {
   "cell_type": "markdown",
   "metadata": {},
   "source": [
    "Our data is mostly clustered as can be seen."
   ]
  },
  {
   "cell_type": "markdown",
   "metadata": {},
   "source": [
    "## K Nearest Neighbour"
   ]
  },
  {
   "cell_type": "code",
   "execution_count": 135,
   "metadata": {},
   "outputs": [
    {
     "name": "stdout",
     "output_type": "stream",
     "text": [
      "[0.41321569 0.20534238 0.16008462]\n"
     ]
    }
   ],
   "source": [
    "array = dia.values\n",
    "X = array[:,0:8]\n",
    "Y = array[:,9]\n",
    "X_train, X_validation, Y_train, Y_validation = train_test_split(X, Y, test_size=0.60, random_state=1)\n",
    "sc = StandardScaler()\n",
    "X_train = sc.fit_transform(X_train)\n",
    "X_validation = sc.transform(X_validation)\n",
    "pca = PCA(n_components=3)\n",
    "X_train = pca.fit_transform(X_train)\n",
    "X_validation = pca.transform(X_validation)\n",
    "explained_variance = pca.explained_variance_ratio_\n",
    "print(explained_variance)"
   ]
  },
  {
   "cell_type": "markdown",
   "metadata": {},
   "source": [
    "Three PCAs are able to explain 77% of the variance in the dataset. A good amount."
   ]
  },
  {
   "cell_type": "code",
   "execution_count": 136,
   "metadata": {},
   "outputs": [
    {
     "name": "stdout",
     "output_type": "stream",
     "text": [
      "[[ 8 21]\n",
      " [ 8 33]]\n",
      "              precision    recall  f1-score   support\n",
      "\n",
      "         1.0       0.50      0.28      0.36        29\n",
      "         2.0       0.61      0.80      0.69        41\n",
      "\n",
      "    accuracy                           0.59        70\n",
      "   macro avg       0.56      0.54      0.53        70\n",
      "weighted avg       0.57      0.59      0.55        70\n",
      "\n",
      "Accuracy 0.5857142857142857\n"
     ]
    }
   ],
   "source": [
    "classifier = KNeighborsClassifier(n_neighbors=5)\n",
    "classifier.fit(X_train, Y_train)\n",
    "Y_pred = classifier.predict(X_validation)\n",
    "print(confusion_matrix(Y_validation,Y_pred))\n",
    "print(classification_report(Y_validation,Y_pred))\n",
    "print('Accuracy' , accuracy_score(Y_validation, Y_pred))"
   ]
  },
  {
   "cell_type": "markdown",
   "metadata": {},
   "source": [
    "Accuracy only 58% for our model, we will need to select a more optimal KNN"
   ]
  },
  {
   "cell_type": "code",
   "execution_count": 137,
   "metadata": {},
   "outputs": [
    {
     "data": {
      "text/plain": [
       "([<matplotlib.axis.XTick at 0x1ee89581400>,\n",
       "  <matplotlib.axis.XTick at 0x1ee8957bd30>,\n",
       "  <matplotlib.axis.XTick at 0x1ee8957ba58>,\n",
       "  <matplotlib.axis.XTick at 0x1ee8959e5c0>,\n",
       "  <matplotlib.axis.XTick at 0x1ee8959eac8>,\n",
       "  <matplotlib.axis.XTick at 0x1ee895a20f0>,\n",
       "  <matplotlib.axis.XTick at 0x1ee895a25f8>,\n",
       "  <matplotlib.axis.XTick at 0x1ee895a2b70>,\n",
       "  <matplotlib.axis.XTick at 0x1ee895aa160>,\n",
       "  <matplotlib.axis.XTick at 0x1ee895a25c0>,\n",
       "  <matplotlib.axis.XTick at 0x1ee8959e668>,\n",
       "  <matplotlib.axis.XTick at 0x1ee895aa0f0>,\n",
       "  <matplotlib.axis.XTick at 0x1ee895aaf28>,\n",
       "  <matplotlib.axis.XTick at 0x1ee895ae4e0>,\n",
       "  <matplotlib.axis.XTick at 0x1ee895aea58>,\n",
       "  <matplotlib.axis.XTick at 0x1ee895aeba8>,\n",
       "  <matplotlib.axis.XTick at 0x1ee895b7588>,\n",
       "  <matplotlib.axis.XTick at 0x1ee895b7b00>,\n",
       "  <matplotlib.axis.XTick at 0x1ee895c0128>],\n",
       " <a list of 19 Text xticklabel objects>)"
      ]
     },
     "execution_count": 137,
     "metadata": {},
     "output_type": "execute_result"
    },
    {
     "data": {
      "image/png": "[encoded data removed]",
      "text/plain": [
       "<Figure size 864x432 with 1 Axes>"
      ]
     },
     "metadata": {
      "needs_background": "light"
     },
     "output_type": "display_data"
    }
   ],
   "source": [
    "error = []\n",
    "for i in range(1, 20):\n",
    "    knn = KNeighborsClassifier(n_neighbors=i)\n",
    "    knn.fit(X_train, Y_train)\n",
    "    pred_i = knn.predict(X_validation)\n",
    "    error.append(np.mean(pred_i != Y_validation))\n",
    "    #Looking for the optimal k value\n",
    "pyplt.figure(figsize=(12, 6))\n",
    "pyplt.plot(range(1, 20), error, color='red', linestyle='dashed', marker='o',\n",
    "         markerfacecolor='blue', markersize=10)\n",
    "pyplt.title('Error Rate K Value')\n",
    "pyplt.xlabel('K Value')\n",
    "pyplt.ylabel('Mean Error')\n",
    "pyplt.xticks(np.arange(1, 20, step=1))"
   ]
  },
  {
   "cell_type": "code",
   "execution_count": 138,
   "metadata": {},
   "outputs": [
    {
     "name": "stdout",
     "output_type": "stream",
     "text": [
      "[[18 11]\n",
      " [11 30]]\n",
      "              precision    recall  f1-score   support\n",
      "\n",
      "         1.0       0.62      0.62      0.62        29\n",
      "         2.0       0.73      0.73      0.73        41\n",
      "\n",
      "    accuracy                           0.69        70\n",
      "   macro avg       0.68      0.68      0.68        70\n",
      "weighted avg       0.69      0.69      0.69        70\n",
      "\n",
      "Accuracy 0.6857142857142857\n"
     ]
    }
   ],
   "source": [
    "#using n_neighbors = 2\n",
    "classifier = KNeighborsClassifier(n_neighbors=2)\n",
    "classifier.fit(X_train, Y_train)\n",
    "Y_pred = classifier.predict(X_validation)\n",
    "#Printing new Confusion Matrix with optimal neighbors\n",
    "print(confusion_matrix(Y_validation,Y_pred))\n",
    "print(classification_report(Y_validation,Y_pred))\n",
    "print('Accuracy' , accuracy_score(Y_validation, Y_pred))"
   ]
  },
  {
   "cell_type": "markdown",
   "metadata": {},
   "source": [
    "Accuracy improved to 68%, good improvement but still lacking. Could be that the dataset is not big enough to fit a model more accurately."
   ]
  },
  {
   "cell_type": "markdown",
   "metadata": {},
   "source": [
    "## Decision Tree"
   ]
  },
  {
   "cell_type": "code",
   "execution_count": 139,
   "metadata": {},
   "outputs": [
    {
     "name": "stdout",
     "output_type": "stream",
     "text": [
      "[0.41321569 0.20534238 0.16008462]\n"
     ]
    }
   ],
   "source": [
    "array = dia.values\n",
    "X = array[:,0:8]\n",
    "Y = array[:,9]\n",
    "X_train, X_validation, Y_train, Y_validation = train_test_split(X, Y, test_size=0.60, random_state=1)\n",
    "sc = StandardScaler()\n",
    "X_train = sc.fit_transform(X_train)\n",
    "X_validation = sc.transform(X_validation)\n",
    "pca = PCA(n_components=3)\n",
    "X_train = pca.fit_transform(X_train)\n",
    "X_validation = pca.transform(X_validation)\n",
    "\n",
    "explained_variance = pca.explained_variance_ratio_\n",
    "print(explained_variance)"
   ]
  },
  {
   "cell_type": "code",
   "execution_count": 140,
   "metadata": {},
   "outputs": [
    {
     "name": "stdout",
     "output_type": "stream",
     "text": [
      "[[ 7 22]\n",
      " [ 7 34]]\n",
      "              precision    recall  f1-score   support\n",
      "\n",
      "         1.0       0.50      0.24      0.33        29\n",
      "         2.0       0.61      0.83      0.70        41\n",
      "\n",
      "    accuracy                           0.59        70\n",
      "   macro avg       0.55      0.54      0.51        70\n",
      "weighted avg       0.56      0.59      0.55        70\n",
      "\n",
      "Accuracy 0.5857142857142857\n"
     ]
    }
   ],
   "source": [
    "classifier = DecisionTreeClassifier()\n",
    "classifier.fit(X_train, Y_train)\n",
    "Y_pred = classifier.predict(X_validation)\n",
    "print(confusion_matrix(Y_validation,Y_pred))\n",
    "print(classification_report(Y_validation,Y_pred))\n",
    "print('Accuracy' , accuracy_score(Y_validation, Y_pred))"
   ]
  },
  {
   "cell_type": "code",
   "execution_count": 141,
   "metadata": {},
   "outputs": [
    {
     "name": "stdout",
     "output_type": "stream",
     "text": [
      "{'ccp_alphas': array([0.        , 0.03952569, 0.05298913, 0.09486166, 0.11005435]), 'impurities': array([0.        , 0.07905138, 0.18502964, 0.2798913 , 0.5       ])}\n"
     ]
    }
   ],
   "source": [
    "#Prunning via a cost complexity parameter\n",
    "clf = DecisionTreeClassifier(random_state=0)\n",
    "path = clf.cost_complexity_pruning_path(X_train, Y_train)\n",
    "ccp_alphas, impurities = path.ccp_alphas, path.impurities\n",
    "var = path\n",
    "print(var)"
   ]
  },
  {
   "cell_type": "code",
   "execution_count": 142,
   "metadata": {},
   "outputs": [
    {
     "data": {
      "text/plain": [
       "Text(0.5, 1.0, 'Total Impurity vs effective alpha for training set')"
      ]
     },
     "execution_count": 142,
     "metadata": {},
     "output_type": "execute_result"
    },
    {
     "data": {
      "image/png": "[encoded data removed]",
      "text/plain": [
       "<Figure size 432x288 with 1 Axes>"
      ]
     },
     "metadata": {
      "needs_background": "light"
     },
     "output_type": "display_data"
    }
   ],
   "source": [
    "fig, ax = pyplt.subplots()\n",
    "ax.plot(ccp_alphas[:-1], impurities[:-1], marker='o', drawstyle=\"steps-post\")\n",
    "ax.set_xlabel(\"effective alpha\")\n",
    "ax.set_ylabel(\"total impurity of leaves\")\n",
    "ax.set_title(\"Total Impurity vs effective alpha for training set\")"
   ]
  },
  {
   "cell_type": "code",
   "execution_count": 143,
   "metadata": {},
   "outputs": [
    {
     "name": "stdout",
     "output_type": "stream",
     "text": [
      "Number of nodes in the last tree is: 1 with ccp_alpha: 0.11005434782608697\n"
     ]
    }
   ],
   "source": [
    "clfs = []\n",
    "for ccp_alpha in ccp_alphas:\n",
    "    clf = DecisionTreeClassifier(random_state=0, ccp_alpha=ccp_alpha)\n",
    "    clf.fit(X_train, Y_train)\n",
    "    clfs.append(clf)\n",
    "print(\"Number of nodes in the last tree is: {} with ccp_alpha: {}\".format(\n",
    "      clfs[-1].tree_.node_count, ccp_alphas[-1]))"
   ]
  },
  {
   "cell_type": "code",
   "execution_count": 144,
   "metadata": {},
   "outputs": [
    {
     "data": {
      "image/png": "[encoded data removed]",
      "text/plain": [
       "<Figure size 432x288 with 2 Axes>"
      ]
     },
     "metadata": {
      "needs_background": "light"
     },
     "output_type": "display_data"
    }
   ],
   "source": [
    "clfs = clfs[:-1]\n",
    "ccp_alphas = ccp_alphas[:-1]\n",
    "\n",
    "node_counts = [clf.tree_.node_count for clf in clfs]\n",
    "depth = [clf.tree_.max_depth for clf in clfs]\n",
    "fig, ax = pyplt.subplots(2, 1)\n",
    "ax[0].plot(ccp_alphas, node_counts, marker='o', drawstyle=\"steps-post\")\n",
    "ax[0].set_xlabel(\"alpha\")\n",
    "ax[0].set_ylabel(\"number of nodes\")\n",
    "ax[0].set_title(\"Number of nodes vs alpha\")\n",
    "ax[1].plot(ccp_alphas, depth, marker='o', drawstyle=\"steps-post\")\n",
    "ax[1].set_xlabel(\"alpha\")\n",
    "ax[1].set_ylabel(\"depth of tree\")\n",
    "ax[1].set_title(\"Depth vs alpha\")\n",
    "fig.tight_layout()"
   ]
  },
  {
   "cell_type": "code",
   "execution_count": 145,
   "metadata": {},
   "outputs": [
    {
     "data": {
      "image/png": "[encoded data removed]",
      "text/plain": [
       "<Figure size 432x288 with 1 Axes>"
      ]
     },
     "metadata": {
      "needs_background": "light"
     },
     "output_type": "display_data"
    }
   ],
   "source": [
    "train_scores = [clf.score(X_train, Y_train) for clf in clfs]\n",
    "test_scores = [clf.score(X_validation, Y_pred) for clf in clfs]\n",
    "\n",
    "fig, ax = pyplt.subplots()\n",
    "ax.set_xlabel(\"alpha\")\n",
    "ax.set_ylabel(\"accuracy\")\n",
    "ax.set_title(\"Accuracy vs alpha for training and testing sets\")\n",
    "ax.plot(ccp_alphas, train_scores, marker='o', label=\"train\",\n",
    "        drawstyle=\"steps-post\")\n",
    "ax.plot(ccp_alphas, test_scores, marker='o', label=\"test\",\n",
    "        drawstyle=\"steps-post\")\n",
    "ax.legend()\n",
    "pyplt.xticks(np.arange(0, .1, step=0.01)) \n",
    "pyplt.show()"
   ]
  },
  {
   "cell_type": "markdown",
   "metadata": {},
   "source": [
    "The best alpha to run our prunined decision Tree at would be at alpha = .04"
   ]
  },
  {
   "cell_type": "code",
   "execution_count": 146,
   "metadata": {},
   "outputs": [
    {
     "name": "stdout",
     "output_type": "stream",
     "text": [
      "[[ 7 22]\n",
      " [ 6 35]]\n",
      "              precision    recall  f1-score   support\n",
      "\n",
      "         1.0       0.54      0.24      0.33        29\n",
      "         2.0       0.61      0.85      0.71        41\n",
      "\n",
      "    accuracy                           0.60        70\n",
      "   macro avg       0.58      0.55      0.52        70\n",
      "weighted avg       0.58      0.60      0.56        70\n",
      "\n",
      "Accuracy 0.6\n"
     ]
    }
   ],
   "source": [
    "classifier = DecisionTreeClassifier(ccp_alpha=0.04)\n",
    "classifier.fit(X_train, Y_train)\n",
    "Y_pred = classifier.predict(X_validation)\n",
    "print(confusion_matrix(Y_validation,Y_pred))\n",
    "print(classification_report(Y_validation,Y_pred))\n",
    "print('Accuracy' , accuracy_score(Y_validation, Y_pred))"
   ]
  },
  {
   "cell_type": "markdown",
   "metadata": {},
   "source": [
    "Same as above, less accurate than the cancer dataset that was used last assignment"
   ]
  },
  {
   "cell_type": "code",
   "execution_count": 147,
   "metadata": {},
   "outputs": [
    {
     "name": "stdout",
     "output_type": "stream",
     "text": [
      "[0.41321569 0.20534238 0.16008462]\n"
     ]
    }
   ],
   "source": [
    "array = dia.values\n",
    "X = array[:,0:8]\n",
    "Y = array[:,9]\n",
    "X_train, X_validation, Y_train, Y_validation = train_test_split(X, Y, test_size=0.60, random_state=1)\n",
    "sc = StandardScaler()\n",
    "X_train = sc.fit_transform(X_train)\n",
    "X_validation = sc.transform(X_validation)\n",
    "pca = PCA(n_components=3)\n",
    "X_train = pca.fit_transform(X_train)\n",
    "X_validation = pca.transform(X_validation)\n",
    "\n",
    "explained_variance = pca.explained_variance_ratio_\n",
    "print(explained_variance)"
   ]
  },
  {
   "cell_type": "code",
   "execution_count": 148,
   "metadata": {},
   "outputs": [
    {
     "data": {
      "text/plain": [
       "GaussianNB(priors=None, var_smoothing=1e-09)"
      ]
     },
     "execution_count": 148,
     "metadata": {},
     "output_type": "execute_result"
    }
   ],
   "source": [
    "classifier = GaussianNB()\n",
    "classifier.fit(X_train, Y_train)"
   ]
  },
  {
   "cell_type": "code",
   "execution_count": 149,
   "metadata": {},
   "outputs": [
    {
     "name": "stdout",
     "output_type": "stream",
     "text": [
      "[[18 11]\n",
      " [15 26]]\n",
      "              precision    recall  f1-score   support\n",
      "\n",
      "         1.0       0.55      0.62      0.58        29\n",
      "         2.0       0.70      0.63      0.67        41\n",
      "\n",
      "    accuracy                           0.63        70\n",
      "   macro avg       0.62      0.63      0.62        70\n",
      "weighted avg       0.64      0.63      0.63        70\n",
      "\n",
      "Accuracy 0.6285714285714286\n"
     ]
    }
   ],
   "source": [
    "Y_pred = classifier.predict(X_validation)\n",
    "print(confusion_matrix(Y_validation,Y_pred))\n",
    "print(classification_report(Y_validation,Y_pred))\n",
    "print('Accuracy' , accuracy_score(Y_validation, Y_pred))"
   ]
  },
  {
   "cell_type": "markdown",
   "metadata": {},
   "source": [
    "Much the same as KNN, accuracy of less than 70%"
   ]
  },
  {
   "cell_type": "markdown",
   "metadata": {},
   "source": [
    "## SVM"
   ]
  },
  {
   "cell_type": "code",
   "execution_count": 150,
   "metadata": {},
   "outputs": [
    {
     "name": "stdout",
     "output_type": "stream",
     "text": [
      "[0.41321569 0.20534238 0.16008462]\n"
     ]
    }
   ],
   "source": [
    "array = dia.values\n",
    "X = array[:,0:8]\n",
    "Y = array[:,9]\n",
    "X_train, X_validation, Y_train, Y_validation = train_test_split(X, Y, test_size=0.60, random_state=1)\n",
    "sc = StandardScaler()\n",
    "X_train = sc.fit_transform(X_train)\n",
    "X_validation = sc.transform(X_validation)\n",
    "pca = PCA(n_components=3)\n",
    "X_train = pca.fit_transform(X_train)\n",
    "X_validation = pca.transform(X_validation)\n",
    "\n",
    "explained_variance = pca.explained_variance_ratio_\n",
    "print(explained_variance)"
   ]
  },
  {
   "cell_type": "code",
   "execution_count": 151,
   "metadata": {},
   "outputs": [
    {
     "name": "stdout",
     "output_type": "stream",
     "text": [
      "[[18 11]\n",
      " [14 27]]\n",
      "              precision    recall  f1-score   support\n",
      "\n",
      "         1.0       0.56      0.62      0.59        29\n",
      "         2.0       0.71      0.66      0.68        41\n",
      "\n",
      "    accuracy                           0.64        70\n",
      "   macro avg       0.64      0.64      0.64        70\n",
      "weighted avg       0.65      0.64      0.64        70\n",
      "\n",
      "Accuracy 0.6428571428571429\n"
     ]
    }
   ],
   "source": [
    "classifier = SVC(kernel='linear')\n",
    "classifier.fit(X_train, Y_train)\n",
    "Y_pred = classifier.predict(X_validation)\n",
    "print(confusion_matrix(Y_validation,Y_pred))\n",
    "print(classification_report(Y_validation,Y_pred))\n",
    "print('Accuracy' , accuracy_score(Y_validation, Y_pred))"
   ]
  },
  {
   "cell_type": "code",
   "execution_count": 152,
   "metadata": {},
   "outputs": [
    {
     "name": "stdout",
     "output_type": "stream",
     "text": [
      "[0.41321569 0.20534238 0.16008462]\n"
     ]
    },
    {
     "data": {
      "text/plain": [
       "SVC(C=1.0, break_ties=False, cache_size=200, class_weight=None, coef0=0.0,\n",
       "    decision_function_shape='ovr', degree=100, gamma='auto', kernel='poly',\n",
       "    max_iter=-1, probability=False, random_state=None, shrinking=True,\n",
       "    tol=0.001, verbose=False)"
      ]
     },
     "execution_count": 152,
     "metadata": {},
     "output_type": "execute_result"
    }
   ],
   "source": [
    "array = dia.values\n",
    "X = array[:,0:8]\n",
    "Y = array[:,9]\n",
    "X_train, X_validation, Y_train, Y_validation = train_test_split(X, Y, test_size=0.60, random_state=1)\n",
    "sc = StandardScaler()\n",
    "X_train = sc.fit_transform(X_train)\n",
    "X_validation = sc.transform(X_validation)\n",
    "pca = PCA(n_components=3)\n",
    "X_train = pca.fit_transform(X_train)\n",
    "X_validation = pca.transform(X_validation)\n",
    "\n",
    "explained_variance = pca.explained_variance_ratio_\n",
    "print(explained_variance)\n",
    "classifier = SVC(kernel='poly', degree=100, gamma='auto')\n",
    "classifier.fit(X_train, Y_train)"
   ]
  },
  {
   "cell_type": "code",
   "execution_count": 153,
   "metadata": {},
   "outputs": [
    {
     "name": "stdout",
     "output_type": "stream",
     "text": [
      "[[23  6]\n",
      " [20 21]]\n",
      "              precision    recall  f1-score   support\n",
      "\n",
      "         1.0       0.53      0.79      0.64        29\n",
      "         2.0       0.78      0.51      0.62        41\n",
      "\n",
      "    accuracy                           0.63        70\n",
      "   macro avg       0.66      0.65      0.63        70\n",
      "weighted avg       0.68      0.63      0.63        70\n",
      "\n",
      "Accuracy 0.6285714285714286\n"
     ]
    }
   ],
   "source": [
    "classifier = SVC(kernel='poly', degree=100, gamma='auto')\n",
    "classifier.fit(X_train, Y_train)\n",
    "Y_pred = classifier.predict(X_validation)\n",
    "print(confusion_matrix(Y_validation,Y_pred))\n",
    "print(classification_report(Y_validation,Y_pred))\n",
    "print('Accuracy' , accuracy_score(Y_validation, Y_pred))"
   ]
  },
  {
   "cell_type": "markdown",
   "metadata": {},
   "source": [
    "Interestingly, our accuracy falls from the linear model to polynomial. I assume this means that the dataset is more linear in nature."
   ]
  },
  {
   "cell_type": "markdown",
   "metadata": {},
   "source": [
    "## Creating the Second Dataset\n",
    "I decided to try my hand at creating a second dataset from scratch. Using make_blobs, I am creatign a dataset of 100 samples and two features. Simple but useful for my needs."
   ]
  },
  {
   "cell_type": "code",
   "execution_count": 154,
   "metadata": {},
   "outputs": [],
   "source": [
    "X, _ = make_blobs(n_samples=100, centers=3, n_features=2, cluster_std=0.2, random_state = 1)\n",
    "#print (X)\n",
    "obj_names = []\n",
    "for i in range(0, 100):\n",
    "    obj = \"Object \" + str(i)\n",
    "    obj_names.append(obj)"
   ]
  },
  {
   "cell_type": "code",
   "execution_count": 155,
   "metadata": {},
   "outputs": [
    {
     "name": "stdout",
     "output_type": "stream",
     "text": [
      "     Object    X_value   Y_value\n",
      "0  Object 0  -1.486478  3.946182\n",
      "1  Object 1  -9.828480 -4.125252\n",
      "2  Object 2 -10.286535 -4.054242\n",
      "3  Object 3  -9.951694 -3.800946\n",
      "4  Object 4  -6.559217 -8.202955\n"
     ]
    }
   ],
   "source": [
    "df = pd.DataFrame({\n",
    "    'Object': obj_names,\n",
    "    'X_value': X[:, 0],\n",
    "    'Y_value': X[:, -1]\n",
    "})\n",
    "print(df.head())"
   ]
  },
  {
   "cell_type": "code",
   "execution_count": 156,
   "metadata": {},
   "outputs": [
    {
     "name": "stdout",
     "output_type": "stream",
     "text": [
      "     Object    X_value   Y_value  C1_Distance  C2_Distance  C3_Distance\n",
      "0  Object 0  -1.486478  3.946182     3.513934     2.763844     3.774516\n",
      "1  Object 1  -9.828480 -4.125252     9.451663    11.151282    13.557541\n",
      "2  Object 2 -10.286535 -4.054242     9.634224    11.514677    13.925410\n",
      "3  Object 3  -9.951694 -3.800946     9.239807    11.099349    13.510918\n",
      "4  Object 4  -6.559217 -8.202955    12.302165    11.601163    13.704504\n"
     ]
    }
   ],
   "source": [
    "# Initialize the centroids\n",
    "c1 = (-5, 4)\n",
    "c2 = (-0.2, 1.5)\n",
    "c3 = (2, 2.5)\n",
    "def calculate_distance(centroid, X, Y):\n",
    "    distances = []\n",
    "    c_x, c_y = centroid\n",
    "        \n",
    "    for x, y in list(zip(X, Y)):\n",
    "        root_diff_x = (x - c_x) ** 2\n",
    "        root_diff_y = (y - c_y) ** 2\n",
    "        distance = np.sqrt(root_diff_x + root_diff_y)\n",
    "        distances.append(distance)\n",
    "\n",
    "    return distances\n",
    "df['C1_Distance'] = calculate_distance(c1, df.X_value, df.Y_value)\n",
    "df['C2_Distance'] = calculate_distance(c2, df.X_value, df.Y_value)\n",
    "df['C3_Distance'] = calculate_distance(c3, df.X_value, df.Y_value)\n",
    "print(df.head())"
   ]
  },
  {
   "cell_type": "code",
   "execution_count": 157,
   "metadata": {},
   "outputs": [
    {
     "name": "stdout",
     "output_type": "stream",
     "text": [
      "     Object    X_value   Y_value  C1_Distance  C2_Distance  C3_Distance  \\\n",
      "0  Object 0  -1.486478  3.946182     3.513934     2.763844     3.774516   \n",
      "1  Object 1  -9.828480 -4.125252     9.451663    11.151282    13.557541   \n",
      "2  Object 2 -10.286535 -4.054242     9.634224    11.514677    13.925410   \n",
      "3  Object 3  -9.951694 -3.800946     9.239807    11.099349    13.510918   \n",
      "4  Object 4  -6.559217 -8.202955    12.302165    11.601163    13.704504   \n",
      "\n",
      "   Cluster  \n",
      "0        1  \n",
      "1        0  \n",
      "2        0  \n",
      "3        0  \n",
      "4        1  \n"
     ]
    }
   ],
   "source": [
    "df['Cluster'] = df[['C1_Distance', 'C2_Distance', 'C3_Distance']].apply(np.argmin, axis=1)\n",
    "#df['Cluster'] = df['Cluster'].map({'C1_Distance': 'C1', 'C2_Distance': 'C2', 'C3_Distance': 'C3'})\n",
    "print(df.head())"
   ]
  },
  {
   "cell_type": "markdown",
   "metadata": {},
   "source": [
    "Mapping the centroids returned NaN values and as such I decided to move forward without using the mapping feature. Further research seems to be that this feature is used in python 2.7 or earlier.\n",
    "Further research is needed."
   ]
  },
  {
   "cell_type": "code",
   "execution_count": 158,
   "metadata": {},
   "outputs": [
    {
     "name": "stdout",
     "output_type": "stream",
     "text": [
      "<class 'pandas.core.frame.DataFrame'>\n",
      "RangeIndex: 100 entries, 0 to 99\n",
      "Data columns (total 7 columns):\n",
      " #   Column       Non-Null Count  Dtype  \n",
      "---  ------       --------------  -----  \n",
      " 0   Object       100 non-null    object \n",
      " 1   X_value      100 non-null    float64\n",
      " 2   Y_value      100 non-null    float64\n",
      " 3   C1_Distance  100 non-null    float64\n",
      " 4   C2_Distance  100 non-null    float64\n",
      " 5   C3_Distance  100 non-null    float64\n",
      " 6   Cluster      100 non-null    int64  \n",
      "dtypes: float64(5), int64(1), object(1)\n",
      "memory usage: 5.6+ KB\n"
     ]
    }
   ],
   "source": [
    "df.info()"
   ]
  },
  {
   "cell_type": "code",
   "execution_count": 159,
   "metadata": {},
   "outputs": [
    {
     "name": "stderr",
     "output_type": "stream",
     "text": [
      "C:\\Users\\evan-\\AppData\\Roaming\\Python\\Python37\\site-packages\\pandas\\core\\ops\\array_ops.py:252: FutureWarning: elementwise comparison failed; returning scalar instead, but in the future will perform elementwise comparison\n",
      "  res_values = method(rvalues)\n"
     ]
    }
   ],
   "source": [
    "# Calculate the coordinates of the new centroid from cluster 1\n",
    "x_new_centroid1 = df[df['Cluster']=='C1']['X_value'].mean()\n",
    "y_new_centroid1 = df[df['Cluster']=='C1']['Y_value'].mean()\n",
    "\n",
    "# Calculate the coordinates of the new centroid from cluster 2\n",
    "x_new_centroid2 = df[df['Cluster']=='C3']['X_value'].mean()\n",
    "y_new_centroid2 = df[df['Cluster']=='C3']['Y_value'].mean()"
   ]
  },
  {
   "cell_type": "code",
   "execution_count": 160,
   "metadata": {},
   "outputs": [
    {
     "name": "stdout",
     "output_type": "stream",
     "text": [
      "Centroid 1 (nan, nan)\n",
      "Centroid 2 (nan, nan)\n"
     ]
    }
   ],
   "source": [
    "# Print the coordinates of the new centroids\n",
    "print('Centroid 1 ({}, {})'.format(x_new_centroid1, y_new_centroid1))\n",
    "print('Centroid 2 ({}, {})'.format(x_new_centroid2, y_new_centroid2))"
   ]
  },
  {
   "cell_type": "markdown",
   "metadata": {},
   "source": [
    "As dicussed above, the centroids return NaN, but with the way I am going forward, the Cluster column will still be able to be predicted as they are in integer form."
   ]
  },
  {
   "cell_type": "code",
   "execution_count": 161,
   "metadata": {},
   "outputs": [
    {
     "name": "stdout",
     "output_type": "stream",
     "text": [
      "[[ -1.62186423   4.39263566]\n",
      " [ -6.96829932  -8.15706116]\n",
      " [-10.00804049  -3.93458703]]\n",
      "[0 2 2 2 1 1 1 2 0 0 2 2 1 0 1 1 1 0 2 2 1 2 1 0 2 1 1 0 0 1 0 0 1 0 2 1 2\n",
      " 2 2 1 1 2 0 2 2 1 0 0 0 0 2 1 1 1 0 1 2 2 0 0 2 1 1 2 2 1 0 1 0 2 2 2 1 0\n",
      " 0 2 1 1 0 2 0 2 2 1 0 0 0 0 2 0 1 0 0 2 2 1 1 0 1 0]\n"
     ]
    },
    {
     "data": {
      "image/png": "[encoded data removed]",
      "text/plain": [
       "<Figure size 432x288 with 1 Axes>"
      ]
     },
     "metadata": {
      "needs_background": "light"
     },
     "output_type": "display_data"
    }
   ],
   "source": [
    "# Specify the number of clusters (3) and fit the data X\n",
    "kmeans = KMeans(n_clusters=3, random_state=0).fit(X)\n",
    "\n",
    "# Get the cluster centroids\n",
    "print(kmeans.cluster_centers_)\n",
    "\n",
    "# Get the cluster labels\n",
    "print(kmeans.labels_)\n",
    "\n",
    "import matplotlib.pyplot as plt\n",
    "# Plotting the cluster centers and the data points on a 2D plane\n",
    "plt.scatter(X[:, 0], X[:, -1])\n",
    "\n",
    "plt.scatter(kmeans.cluster_centers_[:, 0],\n",
    "            kmeans.cluster_centers_[:, 1], c='red', marker='x')\n",
    "\n",
    "plt.title('Data points and cluster centroids')\n",
    "plt.show()"
   ]
  },
  {
   "cell_type": "markdown",
   "metadata": {},
   "source": [
    "The dataset is clustered nicely around our 3 centroids."
   ]
  },
  {
   "cell_type": "markdown",
   "metadata": {},
   "source": [
    "## PCA"
   ]
  },
  {
   "cell_type": "code",
   "execution_count": 162,
   "metadata": {},
   "outputs": [
    {
     "name": "stdout",
     "output_type": "stream",
     "text": [
      "[0.91283766 0.08667894]\n"
     ]
    }
   ],
   "source": [
    "array = df.values\n",
    "X = array[:,1:5]\n",
    "Y = array[:,6]\n",
    "X_train, X_validation, Y_train, Y_validation = train_test_split(X, Y, test_size=0.60, random_state=1)\n",
    "sc = StandardScaler()\n",
    "X_train = sc.fit_transform(X_train)\n",
    "X_validation = sc.transform(X_validation)\n",
    "pca = PCA(n_components = 2)\n",
    "X_train = pca.fit_transform(X_train)\n",
    "X_validation = pca.transform(X_validation)\n",
    "explained_variance = pca.explained_variance_ratio_\n",
    "print(explained_variance)"
   ]
  },
  {
   "cell_type": "markdown",
   "metadata": {},
   "source": [
    "Only 2 PCA needed in this case as they are able to explain 100% of our data. This might be a feature of the make_blobs method, but this will bring up interesting analysis later on."
   ]
  },
  {
   "cell_type": "markdown",
   "metadata": {},
   "source": [
    "## KMeans After PCA"
   ]
  },
  {
   "cell_type": "code",
   "execution_count": 163,
   "metadata": {},
   "outputs": [
    {
     "name": "stdout",
     "output_type": "stream",
     "text": [
      "[[ -1.62186423   4.39263566   3.40717327   3.22697362]\n",
      " [ -6.96829932  -8.15706116  12.31634823  11.79386879]\n",
      " [-10.00804049  -3.93458703   9.38454528  11.21449636]]\n",
      "[0 2 2 2 1 1 1 2 0 0 2 2 1 0 1 1 1 0 2 2 1 2 1 0 2 1 1 0 0 1 0 0 1 0 2 1 2\n",
      " 2 2 1 1 2 0 2 2 1 0 0 0 0 2 1 1 1 0 1 2 2 0 0 2 1 1 2 2 1 0 1 0 2 2 2 1 0\n",
      " 0 2 1 1 0 2 0 2 2 1 0 0 0 0 2 0 1 0 0 2 2 1 1 0 1 0]\n"
     ]
    },
    {
     "data": {
      "image/png": "[encoded data removed]",
      "text/plain": [
       "<Figure size 432x288 with 1 Axes>"
      ]
     },
     "metadata": {
      "needs_background": "light"
     },
     "output_type": "display_data"
    }
   ],
   "source": [
    "# Specify the number of clusters (3) and fit the data X\n",
    "kmeans = KMeans(n_clusters=3, random_state=0).fit(X)\n",
    "\n",
    "# Get the cluster centroids\n",
    "print(kmeans.cluster_centers_)\n",
    "\n",
    "# Get the cluster labels\n",
    "print(kmeans.labels_)\n",
    "\n",
    "import matplotlib.pyplot as plt\n",
    "# Plotting the cluster centers and the data points on a 2D plane\n",
    "plt.scatter(X[:, 0], X[:, -1])\n",
    "\n",
    "plt.scatter(kmeans.cluster_centers_[:, 0],\n",
    "            kmeans.cluster_centers_[:, 1], c='red', marker='x')\n",
    "\n",
    "plt.title('Data points and cluster centroids')\n",
    "plt.show()"
   ]
  },
  {
   "cell_type": "markdown",
   "metadata": {},
   "source": [
    "Our PCA components are nowhere near our previously created centroids."
   ]
  },
  {
   "cell_type": "markdown",
   "metadata": {},
   "source": [
    "## K Nearest Neighbour"
   ]
  },
  {
   "cell_type": "code",
   "execution_count": 164,
   "metadata": {},
   "outputs": [
    {
     "name": "stdout",
     "output_type": "stream",
     "text": [
      "[0.91283766 0.08667894]\n"
     ]
    }
   ],
   "source": [
    "array = df.values\n",
    "X = array[:,1:5]\n",
    "Y = array[:,6]\n",
    "Y = Y.astype(\"int\")\n",
    "X_train, X_validation, Y_train, Y_validation = train_test_split(X, Y, test_size=0.60, random_state=1)\n",
    "sc = StandardScaler()\n",
    "X_train = sc.fit_transform(X_train)\n",
    "X_validation = sc.transform(X_validation)\n",
    "pca = PCA(n_components = 2)\n",
    "X_train = pca.fit_transform(X_train)\n",
    "X_validation = pca.transform(X_validation)\n",
    "explained_variance = pca.explained_variance_ratio_\n",
    "print(explained_variance)"
   ]
  },
  {
   "cell_type": "code",
   "execution_count": 165,
   "metadata": {},
   "outputs": [
    {
     "name": "stdout",
     "output_type": "stream",
     "text": [
      "[[24  0]\n",
      " [ 1 35]]\n",
      "              precision    recall  f1-score   support\n",
      "\n",
      "           0       0.96      1.00      0.98        24\n",
      "           1       1.00      0.97      0.99        36\n",
      "\n",
      "    accuracy                           0.98        60\n",
      "   macro avg       0.98      0.99      0.98        60\n",
      "weighted avg       0.98      0.98      0.98        60\n",
      "\n",
      "Accuracy 0.9833333333333333\n"
     ]
    }
   ],
   "source": [
    "classifier = KNeighborsClassifier(n_neighbors=3)\n",
    "classifier.fit(X_train, Y_train)\n",
    "Y_pred = classifier.predict(X_validation)\n",
    "print(confusion_matrix(Y_validation,Y_pred))\n",
    "print(classification_report(Y_validation,Y_pred))\n",
    "print('Accuracy' , accuracy_score(Y_validation, Y_pred))"
   ]
  },
  {
   "cell_type": "code",
   "execution_count": 166,
   "metadata": {},
   "outputs": [
    {
     "data": {
      "text/plain": [
       "([<matplotlib.axis.XTick at 0x1ee87f71fd0>,\n",
       "  <matplotlib.axis.XTick at 0x1ee87f71cf8>,\n",
       "  <matplotlib.axis.XTick at 0x1ee87f71898>,\n",
       "  <matplotlib.axis.XTick at 0x1ee87b7fdd8>,\n",
       "  <matplotlib.axis.XTick at 0x1ee87b7f710>,\n",
       "  <matplotlib.axis.XTick at 0x1ee87c52b70>,\n",
       "  <matplotlib.axis.XTick at 0x1ee87c52a20>,\n",
       "  <matplotlib.axis.XTick at 0x1ee87c52208>,\n",
       "  <matplotlib.axis.XTick at 0x1ee87ff7908>,\n",
       "  <matplotlib.axis.XTick at 0x1ee87ff7b70>,\n",
       "  <matplotlib.axis.XTick at 0x1ee87ff7e80>,\n",
       "  <matplotlib.axis.XTick at 0x1ee87b7f048>,\n",
       "  <matplotlib.axis.XTick at 0x1ee87d89b38>,\n",
       "  <matplotlib.axis.XTick at 0x1ee87d89e10>,\n",
       "  <matplotlib.axis.XTick at 0x1ee87d89390>,\n",
       "  <matplotlib.axis.XTick at 0x1ee87efb198>,\n",
       "  <matplotlib.axis.XTick at 0x1ee87efb710>,\n",
       "  <matplotlib.axis.XTick at 0x1ee895fa940>,\n",
       "  <matplotlib.axis.XTick at 0x1ee895faeb8>,\n",
       "  <matplotlib.axis.XTick at 0x1ee89563470>,\n",
       "  <matplotlib.axis.XTick at 0x1ee895fa898>,\n",
       "  <matplotlib.axis.XTick at 0x1ee87d89b00>,\n",
       "  <matplotlib.axis.XTick at 0x1ee895632e8>,\n",
       "  <matplotlib.axis.XTick at 0x1ee89563da0>,\n",
       "  <matplotlib.axis.XTick at 0x1ee89542358>,\n",
       "  <matplotlib.axis.XTick at 0x1ee895428d0>,\n",
       "  <matplotlib.axis.XTick at 0x1ee89542e48>,\n",
       "  <matplotlib.axis.XTick at 0x1ee87d9db00>,\n",
       "  <matplotlib.axis.XTick at 0x1ee87d9d550>,\n",
       "  <matplotlib.axis.XTick at 0x1ee87d9dcf8>,\n",
       "  <matplotlib.axis.XTick at 0x1ee89542978>,\n",
       "  <matplotlib.axis.XTick at 0x1ee87d89898>,\n",
       "  <matplotlib.axis.XTick at 0x1ee87d60438>,\n",
       "  <matplotlib.axis.XTick at 0x1ee87d609b0>,\n",
       "  <matplotlib.axis.XTick at 0x1ee87d60f28>,\n",
       "  <matplotlib.axis.XTick at 0x1ee879e44e0>,\n",
       "  <matplotlib.axis.XTick at 0x1ee879e4a58>,\n",
       "  <matplotlib.axis.XTick at 0x1ee879e4ba8>,\n",
       "  <matplotlib.axis.XTick at 0x1ee879df588>],\n",
       " <a list of 39 Text xticklabel objects>)"
      ]
     },
     "execution_count": 166,
     "metadata": {},
     "output_type": "execute_result"
    },
    {
     "data": {
      "image/png": "[encoded data removed]",
      "text/plain": [
       "<Figure size 864x432 with 1 Axes>"
      ]
     },
     "metadata": {
      "needs_background": "light"
     },
     "output_type": "display_data"
    }
   ],
   "source": [
    "error = []\n",
    "for i in range(1, 40):\n",
    "    knn = KNeighborsClassifier(n_neighbors=i)\n",
    "    knn.fit(X_train, Y_train)\n",
    "    pred_i = knn.predict(X_validation)\n",
    "    error.append(np.mean(pred_i != Y_validation))\n",
    "    #Looking for the optimal k value\n",
    "pyplt.figure(figsize=(12, 6))\n",
    "pyplt.plot(range(1, 40), error, color='red', linestyle='dashed', marker='o',\n",
    "         markerfacecolor='blue', markersize=10)\n",
    "pyplt.title('Error Rate K Value')\n",
    "pyplt.xlabel('K Value')\n",
    "pyplt.ylabel('Mean Error')\n",
    "pyplt.xticks(np.arange(1, 40, step=1))"
   ]
  },
  {
   "cell_type": "markdown",
   "metadata": {},
   "source": [
    "Optimal n happens at 1, 3 or 5, I decide to use n = 3 here"
   ]
  },
  {
   "cell_type": "code",
   "execution_count": 167,
   "metadata": {},
   "outputs": [
    {
     "name": "stdout",
     "output_type": "stream",
     "text": [
      "[[24  0]\n",
      " [ 1 35]]\n",
      "              precision    recall  f1-score   support\n",
      "\n",
      "           0       0.96      1.00      0.98        24\n",
      "           1       1.00      0.97      0.99        36\n",
      "\n",
      "    accuracy                           0.98        60\n",
      "   macro avg       0.98      0.99      0.98        60\n",
      "weighted avg       0.98      0.98      0.98        60\n",
      "\n",
      "Accuracy 0.9833333333333333\n"
     ]
    }
   ],
   "source": [
    "#using n_neighbors = 3\n",
    "classifier = KNeighborsClassifier(n_neighbors=3)\n",
    "classifier.fit(X_train, Y_train)\n",
    "Y_pred = classifier.predict(X_validation)\n",
    "#Printing new Confusion Matrix with optimal neighbors\n",
    "print(confusion_matrix(Y_validation,Y_pred))\n",
    "print(classification_report(Y_validation,Y_pred))\n",
    "print('Accuracy' , accuracy_score(Y_validation, Y_pred))"
   ]
  },
  {
   "cell_type": "markdown",
   "metadata": {},
   "source": [
    "Algorithms are much more accurate on this dataset. But there is no imporvement when proceeding with an optimal n_neighbours"
   ]
  },
  {
   "cell_type": "markdown",
   "metadata": {},
   "source": [
    "## Decision Tree"
   ]
  },
  {
   "cell_type": "code",
   "execution_count": 168,
   "metadata": {},
   "outputs": [
    {
     "name": "stdout",
     "output_type": "stream",
     "text": [
      "[0.91283766 0.08667894]\n"
     ]
    }
   ],
   "source": [
    "array = df.values\n",
    "X = array[:,1:5]\n",
    "Y = array[:,6]\n",
    "Y = Y.astype(\"int\")\n",
    "X_train, X_validation, Y_train, Y_validation = train_test_split(X, Y, test_size=0.60, random_state=1)\n",
    "sc = StandardScaler()\n",
    "X_train = sc.fit_transform(X_train)\n",
    "X_validation = sc.transform(X_validation)\n",
    "pca = PCA(n_components=2)\n",
    "X_train = pca.fit_transform(X_train)\n",
    "X_validation = pca.transform(X_validation)\n",
    "explained_variance = pca.explained_variance_ratio_\n",
    "print(explained_variance)"
   ]
  },
  {
   "cell_type": "code",
   "execution_count": 169,
   "metadata": {},
   "outputs": [
    {
     "name": "stdout",
     "output_type": "stream",
     "text": [
      "[[23  1]\n",
      " [ 1 35]]\n",
      "              precision    recall  f1-score   support\n",
      "\n",
      "           0       0.96      0.96      0.96        24\n",
      "           1       0.97      0.97      0.97        36\n",
      "\n",
      "    accuracy                           0.97        60\n",
      "   macro avg       0.97      0.97      0.97        60\n",
      "weighted avg       0.97      0.97      0.97        60\n",
      "\n",
      "Accuracy 0.9666666666666667\n"
     ]
    }
   ],
   "source": [
    "classifier = DecisionTreeClassifier()\n",
    "classifier.fit(X_train, Y_train)\n",
    "Y_pred = classifier.predict(X_validation)\n",
    "print(confusion_matrix(Y_validation,Y_pred))\n",
    "print(classification_report(Y_validation,Y_pred))\n",
    "print('Accuracy' , accuracy_score(Y_validation, Y_pred))"
   ]
  },
  {
   "cell_type": "code",
   "execution_count": 170,
   "metadata": {},
   "outputs": [
    {
     "name": "stdout",
     "output_type": "stream",
     "text": [
      "{'ccp_alphas': array([0.     , 0.49875]), 'impurities': array([0.     , 0.49875])}\n"
     ]
    }
   ],
   "source": [
    "#Prunning via a cost complexity parameter\n",
    "clf = DecisionTreeClassifier(random_state=0)\n",
    "path = clf.cost_complexity_pruning_path(X_train, Y_train)\n",
    "ccp_alphas, impurities = path.ccp_alphas, path.impurities\n",
    "var = path\n",
    "print(var)"
   ]
  },
  {
   "cell_type": "code",
   "execution_count": 171,
   "metadata": {},
   "outputs": [
    {
     "data": {
      "text/plain": [
       "Text(0.5, 1.0, 'Total Impurity vs effective alpha for training set')"
      ]
     },
     "execution_count": 171,
     "metadata": {},
     "output_type": "execute_result"
    },
    {
     "data": {
      "image/png": "[encoded data removed]",
      "text/plain": [
       "<Figure size 432x288 with 1 Axes>"
      ]
     },
     "metadata": {
      "needs_background": "light"
     },
     "output_type": "display_data"
    }
   ],
   "source": [
    "fig, ax = pyplt.subplots()\n",
    "ax.plot(ccp_alphas[:-1], impurities[:-1], marker='o', drawstyle=\"steps-post\")\n",
    "ax.set_xlabel(\"effective alpha\")\n",
    "ax.set_ylabel(\"total impurity of leaves\")\n",
    "ax.set_title(\"Total Impurity vs effective alpha for training set\")"
   ]
  },
  {
   "cell_type": "code",
   "execution_count": 172,
   "metadata": {},
   "outputs": [
    {
     "name": "stdout",
     "output_type": "stream",
     "text": [
      "Number of nodes in the last tree is: 1 with ccp_alpha: 0.4987500000000001\n"
     ]
    }
   ],
   "source": [
    "clfs = []\n",
    "for ccp_alpha in ccp_alphas:\n",
    "    clf = DecisionTreeClassifier(random_state=0, ccp_alpha=ccp_alpha)\n",
    "    clf.fit(X_train, Y_train)\n",
    "    clfs.append(clf)\n",
    "print(\"Number of nodes in the last tree is: {} with ccp_alpha: {}\".format(\n",
    "      clfs[-1].tree_.node_count, ccp_alphas[-1]))"
   ]
  },
  {
   "cell_type": "code",
   "execution_count": 173,
   "metadata": {},
   "outputs": [
    {
     "data": {
      "image/png": "[encoded data removed]",
      "text/plain": [
       "<Figure size 432x288 with 2 Axes>"
      ]
     },
     "metadata": {
      "needs_background": "light"
     },
     "output_type": "display_data"
    }
   ],
   "source": [
    "clfs = clfs[:-1]\n",
    "ccp_alphas = ccp_alphas[:-1]\n",
    "\n",
    "node_counts = [clf.tree_.node_count for clf in clfs]\n",
    "depth = [clf.tree_.max_depth for clf in clfs]\n",
    "fig, ax = pyplt.subplots(2, 1)\n",
    "ax[0].plot(ccp_alphas, node_counts, marker='o', drawstyle=\"steps-post\")\n",
    "ax[0].set_xlabel(\"alpha\")\n",
    "ax[0].set_ylabel(\"number of nodes\")\n",
    "ax[0].set_title(\"Number of nodes vs alpha\")\n",
    "ax[1].plot(ccp_alphas, depth, marker='o', drawstyle=\"steps-post\")\n",
    "ax[1].set_xlabel(\"alpha\")\n",
    "ax[1].set_ylabel(\"depth of tree\")\n",
    "ax[1].set_title(\"Depth vs alpha\")\n",
    "fig.tight_layout()"
   ]
  },
  {
   "cell_type": "code",
   "execution_count": 174,
   "metadata": {},
   "outputs": [
    {
     "data": {
      "image/png": "[encoded data removed]",
      "text/plain": [
       "<Figure size 432x288 with 1 Axes>"
      ]
     },
     "metadata": {
      "needs_background": "light"
     },
     "output_type": "display_data"
    }
   ],
   "source": [
    "train_scores = [clf.score(X_train, Y_train) for clf in clfs]\n",
    "test_scores = [clf.score(X_validation, Y_pred) for clf in clfs]\n",
    "\n",
    "fig, ax = pyplt.subplots()\n",
    "ax.set_xlabel(\"alpha\")\n",
    "ax.set_ylabel(\"accuracy\")\n",
    "ax.set_title(\"Accuracy vs alpha for training and testing sets\")\n",
    "ax.plot(ccp_alphas, train_scores, marker='o', label=\"train\",\n",
    "        drawstyle=\"steps-post\")\n",
    "ax.plot(ccp_alphas, test_scores, marker='o', label=\"test\",\n",
    "        drawstyle=\"steps-post\")\n",
    "ax.legend()\n",
    "pyplt.xticks(np.arange(0, .1, step=0.01)) \n",
    "pyplt.show()"
   ]
  },
  {
   "cell_type": "markdown",
   "metadata": {},
   "source": [
    "Alpha at 0 seems to be the ideal state. Could imply over fitting?"
   ]
  },
  {
   "cell_type": "code",
   "execution_count": 175,
   "metadata": {},
   "outputs": [
    {
     "name": "stdout",
     "output_type": "stream",
     "text": [
      "[[23  1]\n",
      " [ 1 35]]\n",
      "              precision    recall  f1-score   support\n",
      "\n",
      "           0       0.96      0.96      0.96        24\n",
      "           1       0.97      0.97      0.97        36\n",
      "\n",
      "    accuracy                           0.97        60\n",
      "   macro avg       0.97      0.97      0.97        60\n",
      "weighted avg       0.97      0.97      0.97        60\n",
      "\n",
      "Accuracy 0.9666666666666667\n"
     ]
    }
   ],
   "source": [
    "classifier = DecisionTreeClassifier(ccp_alpha=0.00)\n",
    "classifier.fit(X_train, Y_train)\n",
    "Y_pred = classifier.predict(X_validation)\n",
    "print(confusion_matrix(Y_validation,Y_pred))\n",
    "print(classification_report(Y_validation,Y_pred))\n",
    "print('Accuracy' , accuracy_score(Y_validation, Y_pred))"
   ]
  },
  {
   "cell_type": "markdown",
   "metadata": {},
   "source": [
    "Interestingly, our optimal alpha is at 0, meaning that the model is as precise as it will be. The depth of the model confirms that it is only 1 level as well. No movement in the data as alpha is determined is interesting as well."
   ]
  },
  {
   "cell_type": "markdown",
   "metadata": {},
   "source": [
    "## Naive Bayes"
   ]
  },
  {
   "cell_type": "code",
   "execution_count": 176,
   "metadata": {},
   "outputs": [
    {
     "name": "stdout",
     "output_type": "stream",
     "text": [
      "[0.91283766 0.08667894]\n"
     ]
    }
   ],
   "source": [
    "array = df.values\n",
    "X = array[:,1:5]\n",
    "Y = array[:,6]\n",
    "Y = Y.astype(\"int\")\n",
    "X_train, X_validation, Y_train, Y_validation = train_test_split(X, Y, test_size=0.60, random_state=1)\n",
    "sc = StandardScaler()\n",
    "X_train = sc.fit_transform(X_train)\n",
    "X_validation = sc.transform(X_validation)\n",
    "pca = PCA(n_components=2)\n",
    "X_train = pca.fit_transform(X_train)\n",
    "X_validation = pca.transform(X_validation)\n",
    "explained_variance = pca.explained_variance_ratio_\n",
    "print(explained_variance)"
   ]
  },
  {
   "cell_type": "code",
   "execution_count": 177,
   "metadata": {},
   "outputs": [
    {
     "data": {
      "text/plain": [
       "GaussianNB(priors=None, var_smoothing=1e-09)"
      ]
     },
     "execution_count": 177,
     "metadata": {},
     "output_type": "execute_result"
    }
   ],
   "source": [
    "classifier = GaussianNB()\n",
    "classifier.fit(X_train, Y_train)"
   ]
  },
  {
   "cell_type": "code",
   "execution_count": 178,
   "metadata": {},
   "outputs": [
    {
     "name": "stdout",
     "output_type": "stream",
     "text": [
      "[[21  3]\n",
      " [ 0 36]]\n",
      "              precision    recall  f1-score   support\n",
      "\n",
      "           0       1.00      0.88      0.93        24\n",
      "           1       0.92      1.00      0.96        36\n",
      "\n",
      "    accuracy                           0.95        60\n",
      "   macro avg       0.96      0.94      0.95        60\n",
      "weighted avg       0.95      0.95      0.95        60\n",
      "\n",
      "Accuracy 0.95\n"
     ]
    }
   ],
   "source": [
    "Y_pred = classifier.predict(X_validation)\n",
    "print(confusion_matrix(Y_validation,Y_pred))\n",
    "print(classification_report(Y_validation,Y_pred))\n",
    "print('Accuracy' , accuracy_score(Y_validation, Y_pred))"
   ]
  },
  {
   "cell_type": "markdown",
   "metadata": {},
   "source": [
    "## SVM"
   ]
  },
  {
   "cell_type": "code",
   "execution_count": 179,
   "metadata": {},
   "outputs": [
    {
     "name": "stdout",
     "output_type": "stream",
     "text": [
      "[0.91283766 0.08667894]\n"
     ]
    }
   ],
   "source": [
    "array = df.values\n",
    "X = array[:,1:5]\n",
    "Y = array[:,6]\n",
    "Y = Y.astype(\"int\")\n",
    "X_train, X_validation, Y_train, Y_validation = train_test_split(X, Y, test_size=0.60, random_state=1)\n",
    "sc = StandardScaler()\n",
    "X_train = sc.fit_transform(X_train)\n",
    "X_validation = sc.transform(X_validation)\n",
    "pca = PCA(n_components=2)\n",
    "X_train = pca.fit_transform(X_train)\n",
    "X_validation = pca.transform(X_validation)\n",
    "\n",
    "explained_variance = pca.explained_variance_ratio_\n",
    "print(explained_variance)"
   ]
  },
  {
   "cell_type": "code",
   "execution_count": 180,
   "metadata": {},
   "outputs": [
    {
     "name": "stdout",
     "output_type": "stream",
     "text": [
      "[[19  5]\n",
      " [ 0 36]]\n",
      "              precision    recall  f1-score   support\n",
      "\n",
      "           0       1.00      0.79      0.88        24\n",
      "           1       0.88      1.00      0.94        36\n",
      "\n",
      "    accuracy                           0.92        60\n",
      "   macro avg       0.94      0.90      0.91        60\n",
      "weighted avg       0.93      0.92      0.91        60\n",
      "\n",
      "Accuracy 0.9166666666666666\n"
     ]
    }
   ],
   "source": [
    "classifier = SVC(kernel='linear')\n",
    "classifier.fit(X_train, Y_train)\n",
    "Y_pred = classifier.predict(X_validation)\n",
    "print(confusion_matrix(Y_validation,Y_pred))\n",
    "print(classification_report(Y_validation,Y_pred))\n",
    "print('Accuracy' , accuracy_score(Y_validation, Y_pred))"
   ]
  },
  {
   "cell_type": "code",
   "execution_count": 181,
   "metadata": {},
   "outputs": [
    {
     "name": "stdout",
     "output_type": "stream",
     "text": [
      "[0.91283766 0.08667894]\n",
      "--------------- SVM  kernel=poly , degree=8 : classifier.fit [Done]\n",
      "--------------- SVM  kernel=poly , degree=8 : classifier.predict [Done]\n",
      "[[ 0 24]\n",
      " [ 0 36]]\n",
      "              precision    recall  f1-score   support\n",
      "\n",
      "           0       0.00      0.00      0.00        24\n",
      "           1       0.60      1.00      0.75        36\n",
      "\n",
      "    accuracy                           0.60        60\n",
      "   macro avg       0.30      0.50      0.37        60\n",
      "weighted avg       0.36      0.60      0.45        60\n",
      "\n",
      "Accuracy 0.6\n"
     ]
    },
    {
     "name": "stderr",
     "output_type": "stream",
     "text": [
      "C:\\Users\\evan-\\AppData\\Roaming\\Python\\Python37\\site-packages\\sklearn\\metrics\\_classification.py:1272: UndefinedMetricWarning: Precision and F-score are ill-defined and being set to 0.0 in labels with no predicted samples. Use `zero_division` parameter to control this behavior.\n",
      "  _warn_prf(average, modifier, msg_start, len(result))\n"
     ]
    }
   ],
   "source": [
    "array = df.values\n",
    "X = array[:,1:5]\n",
    "Y = array[:,6]\n",
    "Y = Y.astype(\"int\")\n",
    "X_train, X_validation, Y_train, Y_validation = train_test_split(X, Y, test_size=0.60, random_state=1)\n",
    "sc = StandardScaler()\n",
    "X_train = sc.fit_transform(X_train)\n",
    "X_validation = sc.transform(X_validation)\n",
    "pca = PCA(n_components=2)\n",
    "X_train = pca.fit_transform(X_train)\n",
    "X_validation = pca.transform(X_validation)\n",
    "\n",
    "explained_variance = pca.explained_variance_ratio_\n",
    "print(explained_variance)\n",
    "classifier = SVC(kernel='poly', degree=100, gamma='auto')\n",
    "classifier.fit(X_train, Y_train)\n",
    "\n",
    "print('--------------- SVM  kernel=poly , degree=8 : classifier.fit [Done]')\n",
    "Y_pred = classifier.predict(X_validation)\n",
    "\n",
    "print('--------------- SVM  kernel=poly , degree=8 : classifier.predict [Done]')\n",
    "\n",
    "from sklearn.metrics import classification_report, confusion_matrix\n",
    "print(confusion_matrix(Y_validation,Y_pred))\n",
    "print(classification_report(Y_validation,Y_pred))\n",
    "print('Accuracy' , accuracy_score(Y_validation, Y_pred))"
   ]
  },
  {
   "cell_type": "markdown",
   "metadata": {},
   "source": [
    "## Analysis"
   ]
  },
  {
   "cell_type": "markdown",
   "metadata": {},
   "source": [
    "The diabetes dataset was used as it the subject is close to my heart. My family has a predisposition to the type 1 of the disease and I find it fascinating to look into. Being able to maybe see the\n",
    "the telltale signs that may cause the disease is also interesting. Unfortunately, the data was not kind with the methods we have learned, though I am certain it will be able to be looked into with\n",
    "greater detail at a later date. Or perhaps a more robust dataset might be used in the future. The second dataset was manually created via the method make_blobs and served more as a learning tool\n",
    "than anything of interest. Though it ultimately did not work as intended, it was exciting that the methods discussed in class were useful and greatly imporved my knowledge, as well as generated\n",
    "some question that I am keen to answer."
   ]
  },
  {
   "cell_type": "markdown",
   "metadata": {},
   "source": [
    "The methods of creating Kmeans clusters, as well as PCAs, where the ones discussed in class for the most part. Although with diabetes a simpler classification that still produced 2 clusters for our data.\n",
    "The supervized learnings were the same used in the previous classes and assignments and were interesting in their right. The low accuracy yielded by the diabetes dataset are what I would assume real world\n",
    "data would yield, and the make_blobs data would indicate a more tailored dataset. As such, the clusters are certainly uniform in the first dataset, but more clumped together in the second set. In the first\n",
    "set the clusters are actually mixed, with the classifications intermingled. But once PCA is run to reduce dimensionality, the classifications split. In the second set, there was no hue to observe, but the data \n",
    "is clustered between the centroids that where created. Though it is interesting to note that PCA run on the second set causes the localization of the clusters to actually migrate from the centroids. I believe \n",
    "that is because they were not mapped, as explained before I could not without creating a worhtless column of NaN data."
   ]
  }
 ],
 "metadata": {
  "kernelspec": {
   "display_name": "Python 3",
   "language": "python",
   "name": "python3"
  },
  "language_info": {
   "codemirror_mode": {
    "name": "ipython",
    "version": 3
   },
   "file_extension": ".py",
   "mimetype": "text/x-python",
   "name": "python",
   "nbconvert_exporter": "python",
   "pygments_lexer": "ipython3",
   "version": "3.7.3"
  }
 },
 "nbformat": 4,
 "nbformat_minor": 4
}
